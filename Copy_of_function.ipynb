{
  "nbformat": 4,
  "nbformat_minor": 0,
  "metadata": {
    "colab": {
      "provenance": [],
      "authorship_tag": "ABX9TyMnZVv4hcYAOOYlky8dcrj6",
      "include_colab_link": true
    },
    "kernelspec": {
      "name": "python3",
      "display_name": "Python 3"
    },
    "language_info": {
      "name": "python"
    }
  },
  "cells": [
    {
      "cell_type": "markdown",
      "metadata": {
        "id": "view-in-github",
        "colab_type": "text"
      },
      "source": [
        "<a href=\"https://colab.research.google.com/github/ghule2510/data-structure/blob/main/Copy_of_function.ipynb\" target=\"_parent\"><img src=\"https://colab.research.google.com/assets/colab-badge.svg\" alt=\"Open In Colab\"/></a>"
      ]
    },
    {
      "cell_type": "markdown",
      "source": [
        "#THEORY QUESTION"
      ],
      "metadata": {
        "id": "b0saYIIRHUlA"
      }
    },
    {
      "cell_type": "markdown",
      "source": [
        "1.WHAT IS THE DIFFERENCE BETWEEN A FUNCTION AND THE METHOD IN PYTHON?\n",
        "ANS-A function is a block of reusable code independent of an object, while a method is a function associated with an object and called on an instance of that object.\n",
        "Example:\n",
        "# Function\n",
        "def greet(name):\n",
        "    return f\"Hello, {name}!\"\n",
        "\n",
        "print(greet(\"Alice\"))\n",
        "\n",
        "# Method\n",
        "class Dog:\n",
        "    def _init_(self, name):\n",
        "        self.name = name\n",
        "\n",
        "    def bark(self):  # bark is a method\n",
        "        return f\"{self.name} says Woof!\"\n",
        "\n",
        "my_dog = Dog(\"Buddy\")\n",
        "print(my_dog.bark())"
      ],
      "metadata": {
        "id": "uDkKTuz0t3XF"
      }
    },
    {
      "cell_type": "markdown",
      "source": [],
      "metadata": {
        "id": "h1zBB-GJHQPA"
      }
    },
    {
      "cell_type": "markdown",
      "source": [
        "2.EXPLAIN THE CONCEPT OF FUNCTION ARGUMENT AND PARAMETER IN PYTHON?\n",
        "ANS-In Python, a parameter is a named variable in a function definition, while an argument is the actual value passed to the function when it is called.\n",
        "Example:\n",
        "def greet(name):  # 'name' is the parameter\n",
        "    print(f\"Hello, {name}!\")\n",
        "\n",
        "greet(\"Alice\") # \"Alice\" is the argument\n",
        "\n",
        "\n"
      ],
      "metadata": {
        "id": "Isjv7aaDu8kf"
      }
    },
    {
      "cell_type": "markdown",
      "source": [
        "3.WHAT ARE A DIFFERENT WAYS TO DEFINE AND CALLED A FUNCTION IN PYTHON?\n",
        "ANS-In Python, you define a function using def followed by the function name and parentheses, and you call it by typing its name followed by parentheses.\n",
        "Here's an example:\n",
        "# Defining a function\n",
        "def greet(name):\n",
        "    print(f\"Hello, {name}!\")\n",
        "\n",
        "# Calling the function\n",
        "greet(\"Alice\")\n",
        "\n"
      ],
      "metadata": {
        "id": "8T-b7mjZvmJ_"
      }
    },
    {
      "cell_type": "markdown",
      "source": [
        "4.WHAT IS THE PURPOSE OF THE 'RETURN'STATEMENT IN A PYTHON FUNCTION?\n",
        "ANS-The return statement in a Python function serves two primary purposes:\n",
        "Terminating Function Execution:\n",
        "When a return statement is encountered within a function, the function's execution immediately stops. Any code written after the return statement within that function will not be executed.\n",
        "Sending a Value Back to the Caller:\n",
        "The return statement allows a function to send a value (or multiple values as a tuple) back to the part of the program that called it. This returned value can then be stored in a variable, used in an expression, or passed as an argument to another function. If no value is specified with return, or if the function does not contain a return statement, it implicitly returns None.\n",
        "Example:\n",
        "Python\n",
        "\n",
        "def calculate_area(length, width):\n",
        "    \"\"\"\n",
        "    Calculates the area of a rectangle.\n",
        "    \"\"\"\n",
        "    area = length * width\n",
        "    return area  # Returns the calculated area\n",
        "\n",
        "def greet(name):\n",
        "    \"\"\"\n",
        "    Prints a greeting message. This function doesn't return a value explicitly.\n",
        "    \"\"\"\n",
        "    print(f\"Hello, {name}!\")\n",
        "\n",
        "# Calling calculate_area and storing the returned value\n",
        "rectangle_area = calculate_area(5, 10)\n",
        "print(f\"The area of the rectangle is: {rectangle_area}\")\n",
        "\n",
        "# Calling greet - it performs an action but doesn't return a value\n",
        "greet(\"Alice\")\n",
        "\n",
        "# Demonstrating implicit None return\n",
        "result_of_greet = greet(\"Bob\")\n",
        "print(f\"The return value of greet is: {result_of_greet}\")"
      ],
      "metadata": {
        "id": "PYqj4gE3wXd1"
      }
    },
    {
      "cell_type": "markdown",
      "source": [
        "5.WHAT ARE ITERATORS IN PYTHON AND HOW DO THEY DIFFER FROM ITERABLES?\n",
        "ANS-In Python, the concepts of iterables and iterators are fundamental to how looping and data traversal work. While closely related, they have distinct roles.\n",
        "Iterables\n",
        "An iterable is an object that you can \"iterate over,\" meaning you can go through its elements one by one. Think of it as a container that holds a collection of items.\n",
        "* Common examples include:\n",
        "   * Lists (list)\n",
        "   * Tuples (tuple)\n",
        "   * Strings (str)\n",
        "   * Dictionaries (dict)\n",
        "   * Sets (set)\n",
        "   * File objects\n",
        "Example of an Iterable:\n",
        "my_list = [10, 20, 30, 40] # This is an iterable\n",
        "my_string = \"Hello\"      # This is an iterable\n",
        "\n",
        "for item in my_list:\n",
        "    print(item)\n",
        "\n",
        "for char in my_string:\n",
        "    print(char)\n",
        "    Iterators\n",
        "An iterator is an object that represents a stream of data. It keeps track of the current position during iteration and provides the next element in the sequence when requested.\n",
        "Example of an Iterator:\n",
        "my_list = [10, 20, 30, 40]\n",
        "\n",
        "# Get an iterator from the list (iterable)\n",
        "my_iterator = iter(my_list)\n",
        "\n",
        "print(type(my_iterator)) # Output: <class 'list_iterator'>\n",
        "\n",
        "# Use the next() function to get items one by one\n",
        "print(next(my_iterator)) # Output: 10\n",
        "print(next(my_iterator)) # Output: 20\n",
        "print(next(my_iterator)) # Output: 30\n",
        "print(next(my_iterator)) # Output: 40\n",
        "\n",
        "# Calling next() again will raise StopIteration\n",
        "try:\n",
        "    print(next(my_iterator))\n",
        "except StopIteration:\n",
        "    print(\"No more items in the iterator.\")\n",
        "\n",
        "print(\"-\" * 20)\n",
        "\n",
        "# A for loop handles this automatically:\n",
        "another_list = ['apple', 'banana', 'cherry']\n",
        "for fruit in another_list:\n",
        "    print(fruit)\n",
        "# Behind the scenes, the for loop:\n",
        "# 1. Calls iter(another_list) to get an iterator.\n",
        "# 2. Repeatedly calls next() on the iterator until StopIteration is raised.\n",
        "\n",
        "\n",
        "\n"
      ],
      "metadata": {
        "id": "X0eBIGJLyA_2"
      }
    },
    {
      "cell_type": "markdown",
      "source": [
        "6.EXPLAIN THE CONCEPT OF GENERATORS IN PYTHON AND HOW THEY ARE DEFINED.\n",
        "ANS-Generators in Python are iterators that produce values one at a time using the yield keyword, allowing for memory-efficient iteration over large sequences. You define them like a regular function, but instead of return, you use yield to return a value and pause execution.\n",
        "Example:\n",
        "def simple_generator():\n",
        "    yield 1\n",
        "    yield 2\n",
        "    yield 3\n",
        "\n",
        "# Using the generator\n",
        "gen = simple_generator()\n",
        "print(next(gen)) # Output: 1\n",
        "print(next(gen)) # Output: 2\n",
        "print(next(gen)) # Output: 3"
      ],
      "metadata": {
        "id": "5Yb7hA4H0TnS"
      }
    },
    {
      "cell_type": "markdown",
      "source": [
        "7.WHAT ARE THE ADVANTAGES OF USING GENERATORS OVER REGULAR FUNCTION?\n",
        "ANS-The main advantages of using generators over regular functions are memory efficiency and the ability to handle infinite sequences.\n",
        "Regular functions compute and return all values at once, storing them in memory. For example, a function returning a list of a million numbers would need to store all those numbers.\n",
        "Generators, on the other hand, produce values one at a time, on demand, and pause their execution state between each value. This \"lazy evaluation\" means they only store the current state and the value being yielded, making them much more memory efficient, especially for large or infinite sequences.\n",
        "Example with memory efficiency:\n",
        "Regular function:\n",
        "def get_large_list():\n",
        "    return [i for i in range(1000000)] # All 1,000,000 numbers in memory\n",
        "\n",
        "my_list = get_large_list()\n",
        "\n",
        "Generator:\n",
        "def get_large_generator():\n",
        "    for i in range(1000000):\n",
        "        yield i # Generates one number at a time, on demand\n",
        "\n",
        "my_generator = get_large_generator()\n",
        "# Values are generated as you iterate through my_generator, e.g., using a for loop or next()"
      ],
      "metadata": {
        "id": "RGIrbl1J0x1t"
      }
    },
    {
      "cell_type": "markdown",
      "source": [
        "8.WHAT IS A LAMBDA FUNCTION IN PYTHON AND WHEN IS TYPICALLY USED?\n",
        "ANS-A lambda function in Python is a small, anonymous function defined with the lambda keyword. It's typically used for short, simple operations where a full function definition is overkill, often as an argument to higher-order functions like map(), filter(), or sorted().\n",
        "Example:\n",
        "# Using lambda with filter to get even numbers\n",
        "numbers = [1, 2, 3, 4, 5, 6]\n",
        "even_numbers = list(filter(lambda x: x % 2 == 0, numbers))\n",
        "print(even_numbers) # Output: [2, 4, 6]"
      ],
      "metadata": {
        "id": "g3WmhUiR1WlQ"
      }
    },
    {
      "cell_type": "markdown",
      "source": [
        "9.EXPALIN THE PURPOSE AND USAGE OF THE 'MAP()'FUNCTION IN PYTHON.\n",
        "ANS-The map() function in Python is a built-in function used to apply a specified function to every item in an iterable (such as a list, tuple, or string) and return an iterator (a map object) of the results. Its purpose is to efficiently transform or process elements within an iterable without explicitly writing a for loop.\n",
        "Usage:\n",
        "The syntax for map() is:\n",
        "Python\n",
        "\n",
        "map(function, iterable)\n",
        "function: The function to be applied to each item of the iterable. This can be a built-in function, a user-defined function, or a lambda function.\n",
        "iterable: The sequence (e.g., list, tuple, string) whose elements will be passed to the function.\n",
        "The map() function returns a map object, which is an iterator. To view the results, this map object typically needs to be converted into another iterable type, such as a list or a tuple.\n",
        "Example:\n",
        "Consider a scenario where a list of numbers needs to be squared.\n",
        "Python\n",
        "\n",
        "# Define a function to square a number\n",
        "def square(number):\n",
        "    return number * number\n",
        "\n",
        "# Create a list of numbers\n",
        "numbers = [1, 2, 3, 4, 5]\n",
        "\n",
        "# Apply the 'square' function to each number using map()\n",
        "squared_numbers_map = map(square, numbers)\n",
        "\n",
        "# Convert the map object to a list to see the results\n",
        "squared_numbers_list = list(squared_numbers_map)\n",
        "\n",
        "print(squared_numbers_list)\n",
        "Output:\n",
        "Code\n",
        "\n",
        "[1, 4, 9, 16, 25]\n",
        "In this example, map(square, numbers) applies the square function to each element in the numbers list, and list() converts the resulting map object into a list containing the squared values."
      ],
      "metadata": {
        "id": "fulYxebQ1zLt"
      }
    },
    {
      "cell_type": "markdown",
      "source": [
        "10.WHAT IS THE DIFFERENCE BETWEEN 'MAP()','REDUCE()',AND'FILTER()'FUNCTION IN PYTHON?\n",
        "ANS-Map, Filter, and Reduce in Python\n",
        "\n",
        "map(), filter(), and reduce() are three fundamental functions in Python that allow you to process and transform data in a functional programming style.\n",
        "\n",
        "Map\n",
        "map() applies a given function to each item of an iterable (such as a list or tuple) and returns a map object, which is an iterator.\n",
        "\n",
        "Example:\n",
        "def square(x):\n",
        "    return x ** 2\n",
        "\n",
        "numbers = [1, 2, 3, 4, 5]\n",
        "squared_numbers = list(map(square, numbers))\n",
        "print(squared_numbers)  # Output: [1, 4, 9, 16, 25]\n",
        "Filter\n",
        "filter() constructs an iterator from elements of an iterable for which a function returns True.\n",
        "\n",
        "Example:\n",
        "def is_even(x):\n",
        "    return x % 2 == 0\n",
        "\n",
        "numbers = [1, 2, 3, 4, 5]\n",
        "even_numbers = list(filter(is_even, numbers))\n",
        "print(even_numbers)  # Output: [2, 4]\n",
        "Reduce\n",
        "reduce() applies a rolling computation to sequential pairs of values in a list. It's part of the functools module.\n",
        "\n",
        "Example:\n",
        "import functools\n",
        "import operator\n",
        "\n",
        "numbers = [1, 2, 3, 4, 5]\n",
        "sum_of_numbers = functools.reduce(operator.add, numbers)\n",
        "print(sum_of_numbers)  # Output: 15\n"
      ],
      "metadata": {
        "id": "H7kakfJ32m_7"
      }
    },
    {
      "cell_type": "markdown",
      "source": [
        "11.using pen & paper write the internal mechanism for sum operation using reduced function on this given list:[47,11,42,13]![INTERNAL MECHANISM FOR SUM OPERATION USING REDUCE FUNCTION.jpeg](data:image/jpeg;base64,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)"
      ],
      "metadata": {
        "id": "hjzGmFlUQZ1F"
      }
    },
    {
      "cell_type": "markdown",
      "source": [],
      "metadata": {
        "id": "Dqcp4FnY4ER2"
      }
    },
    {
      "cell_type": "markdown",
      "source": [
        "#PRACTICAL QUESTION\n"
      ],
      "metadata": {
        "id": "IW0kiami-pan"
      }
    },
    {
      "cell_type": "markdown",
      "source": [
        "# question 1:write a python function that takes a list of numbers as input and returnthe sum of all even numbers in the list"
      ],
      "metadata": {
        "id": "6n4D_BRnz16m"
      }
    },
    {
      "cell_type": "code",
      "source": [
        "def sum_of_even_numbers(numbers):\n",
        "  total =0\n",
        "\n",
        "  for num in numbers:\n",
        "    if num % 2 == 0:\n",
        "      total += num\n",
        "  return total\n",
        "\n",
        "#example usage\n",
        "sample_list=[1,2,3,4,5,6]\n",
        "print(\"sum of even numbers:\",sum_of_even_numbers(sample_list))"
      ],
      "metadata": {
        "colab": {
          "base_uri": "https://localhost:8080/"
        },
        "id": "R4u_kyub0NW2",
        "outputId": "ea7ae1fe-a5b1-4e40-8554-bf8ed5f80d5c"
      },
      "execution_count": null,
      "outputs": [
        {
          "output_type": "stream",
          "name": "stdout",
          "text": [
            "sum of even numbers: 12\n"
          ]
        }
      ]
    },
    {
      "cell_type": "markdown",
      "source": [],
      "metadata": {
        "id": "d3CHhZPJ0BD2"
      }
    },
    {
      "cell_type": "markdown",
      "source": [
        "# Question 2: create a python function that accept a string and returns the reverse of that string."
      ],
      "metadata": {
        "id": "d6EEszCg3E0W"
      }
    },
    {
      "cell_type": "code",
      "source": [
        "def reverse_string(input_string):\n",
        "    return input_string[::-1]\n",
        "\n",
        "# example usage\n",
        "sample_text = \"data analytics\"\n",
        "print(\"reversed string:\", reverse_string(sample_text))\n"
      ],
      "metadata": {
        "colab": {
          "base_uri": "https://localhost:8080/"
        },
        "id": "WRVl8TND3iKw",
        "outputId": "5273f514-8c58-4a88-ec18-7ee2fedd884a"
      },
      "execution_count": null,
      "outputs": [
        {
          "output_type": "stream",
          "name": "stdout",
          "text": [
            "reversed string: scitylana atad\n"
          ]
        }
      ]
    },
    {
      "cell_type": "markdown",
      "source": [
        "#3.implement a python function that takes a list of integars and return a new list containing the squares of each number."
      ],
      "metadata": {
        "id": "I8SW2k8_KoEY"
      }
    },
    {
      "cell_type": "code",
      "source": [
        "def square_numbers(numbers):\n",
        "    return [x ** 2 for x in numbers]\n",
        "\n",
        "# Example usage:\n",
        "nums = [1, 2, 3, 4, 5]\n",
        "squared = square_numbers(nums)\n",
        "print(squared)  # Output: [1, 4, 9, 16, 25]\n"
      ],
      "metadata": {
        "colab": {
          "base_uri": "https://localhost:8080/"
        },
        "id": "nyS6tTlE-JNb",
        "outputId": "f780ca2e-0ebd-4421-c4a4-f479dd3e13ca"
      },
      "execution_count": null,
      "outputs": [
        {
          "output_type": "stream",
          "name": "stdout",
          "text": [
            "[1, 4, 9, 16, 25]\n"
          ]
        }
      ]
    },
    {
      "cell_type": "markdown",
      "source": [
        "#4:WRITE A PYTHON FUCTION THAT CHECKS IFA GIVEN NUMBER IS PRIME OR NOT FROM 1 TO 200"
      ],
      "metadata": {
        "id": "oFJXWsgv-u3A"
      }
    },
    {
      "cell_type": "code",
      "source": [
        "def is_prime(n):\n",
        "    if n <= 1:\n",
        "        return False\n",
        "    if n == 2:\n",
        "        return True\n",
        "    if n % 2 == 0:\n",
        "        return False\n",
        "    for i in range(3, int(n**0.5) + 1, 2):\n",
        "        if n % i == 0:\n",
        "            return False\n",
        "    return True\n",
        "\n",
        "# Example usage:\n",
        "for num in range(1, 201):\n",
        "    if is_prime(num):\n",
        "        print(f\"{num} is a prime number\")\n",
        "    else:\n",
        "        print(f\"{num} is not a prime number\")\n"
      ],
      "metadata": {
        "colab": {
          "base_uri": "https://localhost:8080/"
        },
        "id": "007gEN46_HUk",
        "outputId": "1e2a47ea-ca32-43d1-fb9a-dcd8561b7994"
      },
      "execution_count": null,
      "outputs": [
        {
          "output_type": "stream",
          "name": "stdout",
          "text": [
            "1 is not a prime number\n",
            "2 is a prime number\n",
            "3 is a prime number\n",
            "4 is not a prime number\n",
            "5 is a prime number\n",
            "6 is not a prime number\n",
            "7 is a prime number\n",
            "8 is not a prime number\n",
            "9 is not a prime number\n",
            "10 is not a prime number\n",
            "11 is a prime number\n",
            "12 is not a prime number\n",
            "13 is a prime number\n",
            "14 is not a prime number\n",
            "15 is not a prime number\n",
            "16 is not a prime number\n",
            "17 is a prime number\n",
            "18 is not a prime number\n",
            "19 is a prime number\n",
            "20 is not a prime number\n",
            "21 is not a prime number\n",
            "22 is not a prime number\n",
            "23 is a prime number\n",
            "24 is not a prime number\n",
            "25 is not a prime number\n",
            "26 is not a prime number\n",
            "27 is not a prime number\n",
            "28 is not a prime number\n",
            "29 is a prime number\n",
            "30 is not a prime number\n",
            "31 is a prime number\n",
            "32 is not a prime number\n",
            "33 is not a prime number\n",
            "34 is not a prime number\n",
            "35 is not a prime number\n",
            "36 is not a prime number\n",
            "37 is a prime number\n",
            "38 is not a prime number\n",
            "39 is not a prime number\n",
            "40 is not a prime number\n",
            "41 is a prime number\n",
            "42 is not a prime number\n",
            "43 is a prime number\n",
            "44 is not a prime number\n",
            "45 is not a prime number\n",
            "46 is not a prime number\n",
            "47 is a prime number\n",
            "48 is not a prime number\n",
            "49 is not a prime number\n",
            "50 is not a prime number\n",
            "51 is not a prime number\n",
            "52 is not a prime number\n",
            "53 is a prime number\n",
            "54 is not a prime number\n",
            "55 is not a prime number\n",
            "56 is not a prime number\n",
            "57 is not a prime number\n",
            "58 is not a prime number\n",
            "59 is a prime number\n",
            "60 is not a prime number\n",
            "61 is a prime number\n",
            "62 is not a prime number\n",
            "63 is not a prime number\n",
            "64 is not a prime number\n",
            "65 is not a prime number\n",
            "66 is not a prime number\n",
            "67 is a prime number\n",
            "68 is not a prime number\n",
            "69 is not a prime number\n",
            "70 is not a prime number\n",
            "71 is a prime number\n",
            "72 is not a prime number\n",
            "73 is a prime number\n",
            "74 is not a prime number\n",
            "75 is not a prime number\n",
            "76 is not a prime number\n",
            "77 is not a prime number\n",
            "78 is not a prime number\n",
            "79 is a prime number\n",
            "80 is not a prime number\n",
            "81 is not a prime number\n",
            "82 is not a prime number\n",
            "83 is a prime number\n",
            "84 is not a prime number\n",
            "85 is not a prime number\n",
            "86 is not a prime number\n",
            "87 is not a prime number\n",
            "88 is not a prime number\n",
            "89 is a prime number\n",
            "90 is not a prime number\n",
            "91 is not a prime number\n",
            "92 is not a prime number\n",
            "93 is not a prime number\n",
            "94 is not a prime number\n",
            "95 is not a prime number\n",
            "96 is not a prime number\n",
            "97 is a prime number\n",
            "98 is not a prime number\n",
            "99 is not a prime number\n",
            "100 is not a prime number\n",
            "101 is a prime number\n",
            "102 is not a prime number\n",
            "103 is a prime number\n",
            "104 is not a prime number\n",
            "105 is not a prime number\n",
            "106 is not a prime number\n",
            "107 is a prime number\n",
            "108 is not a prime number\n",
            "109 is a prime number\n",
            "110 is not a prime number\n",
            "111 is not a prime number\n",
            "112 is not a prime number\n",
            "113 is a prime number\n",
            "114 is not a prime number\n",
            "115 is not a prime number\n",
            "116 is not a prime number\n",
            "117 is not a prime number\n",
            "118 is not a prime number\n",
            "119 is not a prime number\n",
            "120 is not a prime number\n",
            "121 is not a prime number\n",
            "122 is not a prime number\n",
            "123 is not a prime number\n",
            "124 is not a prime number\n",
            "125 is not a prime number\n",
            "126 is not a prime number\n",
            "127 is a prime number\n",
            "128 is not a prime number\n",
            "129 is not a prime number\n",
            "130 is not a prime number\n",
            "131 is a prime number\n",
            "132 is not a prime number\n",
            "133 is not a prime number\n",
            "134 is not a prime number\n",
            "135 is not a prime number\n",
            "136 is not a prime number\n",
            "137 is a prime number\n",
            "138 is not a prime number\n",
            "139 is a prime number\n",
            "140 is not a prime number\n",
            "141 is not a prime number\n",
            "142 is not a prime number\n",
            "143 is not a prime number\n",
            "144 is not a prime number\n",
            "145 is not a prime number\n",
            "146 is not a prime number\n",
            "147 is not a prime number\n",
            "148 is not a prime number\n",
            "149 is a prime number\n",
            "150 is not a prime number\n",
            "151 is a prime number\n",
            "152 is not a prime number\n",
            "153 is not a prime number\n",
            "154 is not a prime number\n",
            "155 is not a prime number\n",
            "156 is not a prime number\n",
            "157 is a prime number\n",
            "158 is not a prime number\n",
            "159 is not a prime number\n",
            "160 is not a prime number\n",
            "161 is not a prime number\n",
            "162 is not a prime number\n",
            "163 is a prime number\n",
            "164 is not a prime number\n",
            "165 is not a prime number\n",
            "166 is not a prime number\n",
            "167 is a prime number\n",
            "168 is not a prime number\n",
            "169 is not a prime number\n",
            "170 is not a prime number\n",
            "171 is not a prime number\n",
            "172 is not a prime number\n",
            "173 is a prime number\n",
            "174 is not a prime number\n",
            "175 is not a prime number\n",
            "176 is not a prime number\n",
            "177 is not a prime number\n",
            "178 is not a prime number\n",
            "179 is a prime number\n",
            "180 is not a prime number\n",
            "181 is a prime number\n",
            "182 is not a prime number\n",
            "183 is not a prime number\n",
            "184 is not a prime number\n",
            "185 is not a prime number\n",
            "186 is not a prime number\n",
            "187 is not a prime number\n",
            "188 is not a prime number\n",
            "189 is not a prime number\n",
            "190 is not a prime number\n",
            "191 is a prime number\n",
            "192 is not a prime number\n",
            "193 is a prime number\n",
            "194 is not a prime number\n",
            "195 is not a prime number\n",
            "196 is not a prime number\n",
            "197 is a prime number\n",
            "198 is not a prime number\n",
            "199 is a prime number\n",
            "200 is not a prime number\n"
          ]
        }
      ]
    },
    {
      "cell_type": "markdown",
      "source": [
        "#5: CREATE AN ITERATOR CLASS IN PYTHON THAT GENERATES THE FIBONACCI SEQUENCE UPTO A SPECIFIED NUMBER OF TERMS."
      ],
      "metadata": {
        "id": "81O0ijMt_UqH"
      }
    },
    {
      "cell_type": "code",
      "source": [
        "class Fibonacci:\n",
        "    def __init__(self, terms):\n",
        "        self.terms = terms\n",
        "        self.index = 0\n",
        "        self.a = 0\n",
        "        self.b = 1\n",
        "\n",
        "    def __iter__(self):\n",
        "        return self\n",
        "\n",
        "    def __next__(self):\n",
        "        if self.index >= self.terms:\n",
        "            raise StopIteration\n",
        "\n",
        "        if self.index == 0:\n",
        "            self.index += 1\n",
        "            return 0\n",
        "        elif self.index == 1:\n",
        "            self.index += 1\n",
        "            return 1\n",
        "        else:\n",
        "            self.a, self.b = self.b, self.a + self.b\n",
        "            self.index += 1\n",
        "            return self.a\n",
        "\n",
        "# Example usage:\n",
        "fib = Fibonacci(10)\n",
        "for num in fib:\n",
        "    print(num)\n"
      ],
      "metadata": {
        "colab": {
          "base_uri": "https://localhost:8080/"
        },
        "id": "A5KcU2Ty_yw6",
        "outputId": "15d8710b-8b05-44e9-bb6c-2eff271b9b07"
      },
      "execution_count": null,
      "outputs": [
        {
          "output_type": "stream",
          "name": "stdout",
          "text": [
            "0\n",
            "1\n",
            "1\n",
            "1\n",
            "2\n",
            "3\n",
            "5\n",
            "8\n",
            "13\n",
            "21\n"
          ]
        }
      ]
    },
    {
      "cell_type": "markdown",
      "source": [
        "#6: WRITE A GENERATOR IN PYTHON THAT YEILD THE POWERS OF 2 UPTO A GIVEN EXPONENT."
      ],
      "metadata": {
        "id": "6_EfGXCoAoIw"
      }
    },
    {
      "cell_type": "code",
      "source": [
        "def powers_of_two(max_exponent):\n",
        "    for exp in range(max_exponent + 1):\n",
        "        yield 2 ** exp\n",
        "\n",
        "# Example usage:\n",
        "for value in powers_of_two(5):\n",
        "    print(value)\n"
      ],
      "metadata": {
        "colab": {
          "base_uri": "https://localhost:8080/"
        },
        "id": "cQ10KIffA_jS",
        "outputId": "b37d8b14-b4d9-482a-b6c6-dd035ba3c987"
      },
      "execution_count": null,
      "outputs": [
        {
          "output_type": "stream",
          "name": "stdout",
          "text": [
            "1\n",
            "2\n",
            "4\n",
            "8\n",
            "16\n",
            "32\n"
          ]
        }
      ]
    },
    {
      "cell_type": "markdown",
      "source": [
        " #7: IMPLEMENT A GENERATOR FUCTION THAT READS A FILE LINE BY LINE AND YIELDS EACH LINE AS A STRING."
      ],
      "metadata": {
        "id": "RJ5fgTqkBDAh"
      }
    },
    {
      "cell_type": "code",
      "source": [
        "def read_file_lines(file_path):\n",
        "    \"\"\"Generator that yields each line from the file.\"\"\"\n",
        "    with open(file_path, 'r', encoding='utf-8') as file:\n",
        "        for line in file:\n",
        "            yield line\n",
        "\n",
        "# Create a dummy file for testing\n",
        "with open(\"sample.txt\", 'w', encoding=\"utf-8\") as f:\n",
        "    f.write(\"this is line 1.\\n\")\n",
        "    f.write(\"this is line 2.\\n\")\n",
        "    f.write(\"this is line 3.\\n\")\n",
        "\n",
        "# Example usage: read and print each line\n",
        "for line in read_file_lines(\"sample.txt\"):\n",
        "    print(line.strip())\n"
      ],
      "metadata": {
        "colab": {
          "base_uri": "https://localhost:8080/"
        },
        "id": "GLcq6y6YuvWc",
        "outputId": "5d6403c9-fd7d-4176-c59e-9066e8266b07"
      },
      "execution_count": null,
      "outputs": [
        {
          "output_type": "stream",
          "name": "stdout",
          "text": [
            "this is line 1.\n",
            "this is line 2.\n",
            "this is line 3.\n"
          ]
        }
      ]
    },
    {
      "cell_type": "markdown",
      "source": [
        "#8:use a lambda function in python to sort a list of tuples based on the second element of each tuple."
      ],
      "metadata": {
        "id": "le47R6GSyhVl"
      }
    },
    {
      "cell_type": "code",
      "source": [
        "# List of tuples\n",
        "data = [(1, 5), (3, 1), (4, 3), (2, 2)]\n",
        "\n",
        "# Sort by second element using a lambda function\n",
        "sorted_data = sorted(data, key=lambda x: x[1])\n",
        "\n",
        "# Print the sorted list\n",
        "print(sorted_data)\n"
      ],
      "metadata": {
        "colab": {
          "base_uri": "https://localhost:8080/"
        },
        "id": "0eSqylulzEKa",
        "outputId": "81c0fc2e-90d8-420c-fffd-30cfd770ec04"
      },
      "execution_count": null,
      "outputs": [
        {
          "output_type": "stream",
          "name": "stdout",
          "text": [
            "[(3, 1), (2, 2), (4, 3), (1, 5)]\n"
          ]
        }
      ]
    },
    {
      "cell_type": "markdown",
      "source": [
        "#9: write a python program that uses map() to convert a list of temperatures from celsius to fahrenheit."
      ],
      "metadata": {
        "id": "cWINJczpzb99"
      }
    },
    {
      "cell_type": "code",
      "source": [
        "# Function to convert Celsius to Fahrenheit\n",
        "def celsius_to_fahrenheit(c):\n",
        "    return (c * 9/5) + 32\n",
        "\n",
        "# List of temperatures in Celsius\n",
        "celsius_temps = [0, 20, 37, 100]\n",
        "\n",
        "# Use map() to convert to Fahrenheit\n",
        "fahrenheit_temps = list(map(celsius_to_fahrenheit, celsius_temps))\n",
        "\n",
        "# Print the result\n",
        "print(\"Celsius temperatures:\", celsius_temps)\n",
        "print(\"Fahrenheit temperatures:\", fahrenheit_temps)\n"
      ],
      "metadata": {
        "colab": {
          "base_uri": "https://localhost:8080/"
        },
        "id": "s_vlpjtj0Ley",
        "outputId": "25a0435d-0f94-4987-f3c8-15a6cc7977c1"
      },
      "execution_count": null,
      "outputs": [
        {
          "output_type": "stream",
          "name": "stdout",
          "text": [
            "Celsius temperatures: [0, 20, 37, 100]\n",
            "Fahrenheit temperatures: [32.0, 68.0, 98.6, 212.0]\n"
          ]
        }
      ]
    },
    {
      "cell_type": "markdown",
      "source": [
        " # 10: create a python program that uses filter() to remove all the vowels from a given string."
      ],
      "metadata": {
        "id": "ztRYlkwd1QNx"
      }
    },
    {
      "cell_type": "code",
      "source": [
        "# Function to check if a character is NOT a vowel\n",
        "def is_not_vowel(char):\n",
        "    return char.lower() not in 'aeiou'\n",
        "\n",
        "# Input string\n",
        "input_string = \"Hello, this is a sample string.\"\n",
        "\n",
        "# Use filter() to remove vowels\n",
        "filtered_chars = filter(is_not_vowel, input_string)\n",
        "\n",
        "# Join the characters back into a string\n",
        "result_string = ''.join(filtered_chars)\n",
        "\n",
        "# Print the result\n",
        "print(\"Original string:\", input_string)\n",
        "print(\"String without vowels:\", result_string)\n"
      ],
      "metadata": {
        "colab": {
          "base_uri": "https://localhost:8080/"
        },
        "id": "Z32r3m9116Ab",
        "outputId": "94022215-cd98-4966-8aab-dc34fd3acf53"
      },
      "execution_count": null,
      "outputs": [
        {
          "output_type": "stream",
          "name": "stdout",
          "text": [
            "Original string: Hello, this is a sample string.\n",
            "String without vowels: Hll, ths s  smpl strng.\n"
          ]
        }
      ]
    },
    {
      "cell_type": "markdown",
      "source": [
        " #11: imagine an accounting routine used in book shop.IT works on a list with sublists like this:[order number,book title and author,quantity,price per item]\n",
        "\n",
        " order number  book Title and Author          Quantity  price per Item\n",
        " 34587        learning python,mark lutz         4         40.95\n",
        " 98762       programing python,mark lutz        5         56.80\n",
        " 77226       head first python,paul barry       3         32.95\n",
        " 88112       einfuhrug in python3,bernd klein   3         24.99\n",
        " # each tuple consists of the order number and the product of the price per item and the quantity.he product should be increased by 10,- € if the value of the order is smaller than 100,00 €"
      ],
      "metadata": {
        "id": "8fnc1SNW2BMI"
      }
    },
    {
      "cell_type": "code",
      "source": [
        "orders = [\n",
        "    [34587, \"Learning Python, Mark Lutz\", 4, 40.95],\n",
        "    [98762, \"Programming Python, Mark Lutz\", 5, 56.80],\n",
        "    [77226, \"Head First Python, Paul Barry\", 3, 32.95],\n",
        "    [88112, \"Einführung in Python3, Bernd Klein\", 3, 24.99]\n",
        "]\n",
        "\n",
        "# Compute the final list\n",
        "final_orders = []\n",
        "\n",
        "for order in orders:\n",
        "    order_num, title_author, qty, price = order\n",
        "    total = qty * price\n",
        "    if total < 100:\n",
        "        total += 10\n",
        "    final_orders.append((order_num, round(total, 2)))  # Rounded to 2 decimal places\n",
        "\n",
        "# Output\n",
        "print(final_orders)\n"
      ],
      "metadata": {
        "colab": {
          "base_uri": "https://localhost:8080/"
        },
        "id": "pgfmTWUlFwj7",
        "outputId": "ddf3602d-6fa7-469b-f5a5-437b2fdc79cb"
      },
      "execution_count": null,
      "outputs": [
        {
          "output_type": "stream",
          "name": "stdout",
          "text": [
            "[(34587, 163.8), (98762, 284.0), (77226, 108.85), (88112, 84.97)]\n"
          ]
        }
      ]
    }
  ]
}