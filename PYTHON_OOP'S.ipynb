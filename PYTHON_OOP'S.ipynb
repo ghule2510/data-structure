{
  "nbformat": 4,
  "nbformat_minor": 0,
  "metadata": {
    "colab": {
      "provenance": [],
      "authorship_tag": "ABX9TyPOCFjuKqdp6S4v0lnpVNNt",
      "include_colab_link": true
    },
    "kernelspec": {
      "name": "python3",
      "display_name": "Python 3"
    },
    "language_info": {
      "name": "python"
    }
  },
  "cells": [
    {
      "cell_type": "markdown",
      "metadata": {
        "id": "view-in-github",
        "colab_type": "text"
      },
      "source": [
        "<a href=\"https://colab.research.google.com/github/ghule2510/data-structure/blob/main/PYTHON_OOP'S.ipynb\" target=\"_parent\"><img src=\"https://colab.research.google.com/assets/colab-badge.svg\" alt=\"Open In Colab\"/></a>"
      ]
    },
    {
      "cell_type": "markdown",
      "source": [],
      "metadata": {
        "id": "eN_0CWYh1Osz"
      }
    },
    {
      "cell_type": "markdown",
      "source": [
        "#PYTHON OOPs"
      ],
      "metadata": {
        "id": "uDXpa_iI1RBD"
      }
    },
    {
      "cell_type": "markdown",
      "source": [
        " #1: WHAT IS OBJECT-ORIENTED PROGRAMING (OOP)?\n",
        " ANS:Object-Oriented Programming (OOP) is a way of writing and organizing code that mimics real-world systems by using \"objects.\" Think of it like building with LEGO blocks—each block (or object) has its own properties and actions, and you can combine them to create something bigger."
      ],
      "metadata": {
        "id": "yqvqWNO822B7"
      }
    },
    {
      "cell_type": "markdown",
      "source": [
        " #2: WHAT IS A CLASS IN OOP?\n",
        "ANS:In Object-Oriented Programming (OOP), a class is a blueprint or template for creating objects.\n",
        "\n",
        "Definition:\n",
        "A class defines the properties (attributes) and behaviors (methods) that the objects created from the class will have."
      ],
      "metadata": {
        "id": "AspdeN4Y3tHa"
      }
    },
    {
      "cell_type": "markdown",
      "source": [
        " #3: WHAT IS AN OBJECT IN OOP?\n",
        " ANS-An object is an instance of a class. It is a real-world entity created using the blueprint provided by a class.\n",
        "\n",
        "Key Points:\n",
        "A class is like a template.\n",
        "\n",
        "An object is a concrete version of that template with actual values.\n",
        "\n",
        "Each object has its own data (attributes) and can perform actions (methods).\n",
        "\n"
      ],
      "metadata": {
        "id": "W8-1Gc424zrs"
      }
    },
    {
      "cell_type": "markdown",
      "source": [
        " #4:WHAT IS THE DIFFERENCE BETWEEN ANSTRACTION AND ENCAPSULATION?\n",
        " ANS:Both abstraction and encapsulation are core concepts of object-oriented programming (OOP), but they serve different purposes:\n",
        "\n",
        " Abstraction\n",
        "Hides complex implementation and shows only the essential features to the user.\n",
        "\n",
        "Focus: What an object does.\n",
        "\n",
        "Purpose: To reduce complexity and increase efficiency.\n",
        "\n",
        "Achieved by: Using abstract classes, interfaces, or methods that hide internal logic.\n",
        "\n",
        "Encapsulation\n",
        "Hides data by wrapping it inside a class and restricting access to it.\n",
        "\n",
        "Focus: How data is accessed and protected.\n",
        "\n",
        "Purpose: To protect the data from unauthorized access or modification.\n",
        "\n",
        "Achieved by: Using private/protected variables and getter/setter methods."
      ],
      "metadata": {
        "id": "6n0E9DtR5mC7"
      }
    },
    {
      "cell_type": "markdown",
      "source": [
        "#5.WHAT ASRE DUNDER METHOD IN PYHTHON?\n",
        " ANS-Dunder methods (short for Double UNDERscore) are special built-in methods in Python that start and end with double underscores: __methodname__.\n",
        "\n",
        "They are also known as magic methods or special methods."
      ],
      "metadata": {
        "id": "kOjujKM56wOx"
      }
    },
    {
      "cell_type": "markdown",
      "source": [
        "#6.EXPLAN IN THE CONCEPT OF INHERITANCE IN OOP.\n",
        " ANS:Inheritance is a core concept in Object-Oriented Programming that allows a class to inherit properties and methods from another class.\n",
        " Promotes code reuse\n",
        " Supports hierarchical classification\n",
        " Helps with extending functionality\n",
        "\n",
        "Types of Inheritance in Python:\n",
        "1.Single Inheritance – One child inherits from one parent.\n",
        "\n",
        "2.Multiple Inheritance – Child class inherits from more than one parent.\n",
        "\n",
        "3.Multilevel Inheritance – Class is derived from a class which is also derived  from another.\n",
        "\n",
        "4.Hierarchical Inheritance – Multiple child classes inherit from one parent.\n",
        "\n",
        "5.Hybrid Inheritance – Combination of multiple types.\n",
        "\n"
      ],
      "metadata": {
        "id": "fW8xBi4o7m3C"
      }
    },
    {
      "cell_type": "markdown",
      "source": [
        " #7:WHAT IS POLYMORPHISM IN OOP?\n",
        " ANS-Polymorphism means \"many forms\".\n",
        "In Object-Oriented Programming (OOP), polymorphism allows objects of different classes to be treated as objects of a common superclass, while behaving differently based on their class."
      ],
      "metadata": {
        "id": "4upW0C6Z9AYR"
      }
    },
    {
      "cell_type": "markdown",
      "source": [
        "#8:HOW  IS ENCAPSULATION ACHIEVED IN PYTHON?\n",
        " ANS-Encapsulation in Python is achieved by restricting direct access to variables and methods and controlling it through public methods like getters and setters.\n",
        "\n",
        " How Python Achieves Encapsulation:\n",
        " 1. Using Underscores to Define Access Levels\n",
        "Access Level\tSyntax\tMeaning\n",
        "Public\tself.name\tCan be accessed from anywhere\n",
        "Protected\tself._salary\tSuggests limited access (by convention)\n",
        "Private\tself.__age\tCannot be accessed directly outside class\n",
        "\n"
      ],
      "metadata": {
        "id": "Z1n2Dc3F9m-t"
      }
    },
    {
      "cell_type": "markdown",
      "source": [
        " #9.WHAT IS A CONSTRUCTOR IN PYTHON?\n",
        " ANS: constructor in Python is a special method used to initialize objects when a class is created.\n",
        "It is automatically called when an object is created from a class.\n",
        "\n",
        " In Python, the constructor method is:\n",
        "__init__(self)\n"
      ],
      "metadata": {
        "id": "1KvqDGJG-Zvx"
      }
    },
    {
      "cell_type": "markdown",
      "source": [
        "#10.WHAT A RE CLASS AND STATIC METHODS IN PYTHON?\n",
        " ANS:Both class methods and static methods are special types of methods defined inside a class, but they behave differently from regular instance methods.\n",
        "\n",
        " 1. Class Method\n",
        "A class method is a method that works with the class itself, not with instances (objects).\n",
        "\n",
        "It uses @classmethod decorator.\n",
        "\n",
        "The first parameter is cls (refers to the class).\n",
        "\n",
        "Can access or modify class variables (shared across all instances).\n",
        " 2. Static Method\n",
        "A static method is a method that does not need access to the class (cls) or the instance (self).\n",
        "\n",
        "It uses @staticmethod decorator.\n",
        "\n",
        "Works like a regular function but is kept inside a class for logical grouping."
      ],
      "metadata": {
        "id": "WXaEIXPN_Cue"
      }
    },
    {
      "cell_type": "markdown",
      "source": [
        " #11:WHAT IS METHOD OVERLOADING IN PYTHON?\n",
        " ANS:Method Overloading means defining multiple methods with the same name but different parameters (like number or type) in the same class.\n",
        "\n",
        "Default arguments\n",
        "\n",
        "Variable-length arguments (*args, **kwargs)\n",
        "\n"
      ],
      "metadata": {
        "id": "oqp1WZKM_4fZ"
      }
    },
    {
      "cell_type": "markdown",
      "source": [
        " #12: WHAT I METHOD OVERRIDING IN OOP?\n",
        " ANS:Method Overriding occurs when a child class provides a new version of a method that is already defined in its parent class.\n",
        "\n",
        "To change or extend the behavior of a method from the parent class.\n",
        "\n",
        "Supports runtime polymorphism.\n",
        "\n"
      ],
      "metadata": {
        "id": "gnA2S_MFA2eS"
      }
    },
    {
      "cell_type": "markdown",
      "source": [
        " #13: WHAT IS A PROPERTY DECORATOR IN PYTHON?\n",
        " ANS:The @property decorator in Python is used to convert a method into a read-only attribute.\n",
        "It allows you to access methods like attributes, which helps with encapsulation and data protection."
      ],
      "metadata": {
        "id": "D21qPjD6BZ5v"
      }
    },
    {
      "cell_type": "markdown",
      "source": [
        "#14:WHY IS POLYMORPHISM IMPORTANT IN OOP?\n",
        " ANS-Polymorphism (meaning many forms) is a fundamental concept in Object-Oriented Programming (OOP) that allows one interface to be used for different types of objects.\n",
        "\n",
        "1. Code Reusability\n",
        "You can write generic code that works for different classes.\n",
        "\n",
        "Reduces code duplication.\n",
        "def make_sound(animal):\n",
        "    animal.speak()  # Works for any class that has a 'speak' method\n",
        "2. Extensibility\n",
        "Easy to add new classes with minimal changes to existing code.\n",
        "\n",
        "You don’t need to change the calling code.\n",
        "\n",
        "3. Improved Readability and Maintenance\n",
        "Cleaner and more flexible code.\n",
        "\n",
        "One method name can work across many different object types.\n",
        "\n",
        "4. Supports Dynamic Behavior (Runtime Polymorphism)\n",
        "Methods behave differently based on the object’s class at runtime.\n",
        "\n"
      ],
      "metadata": {
        "id": "SFLSmlxqB7s-"
      }
    },
    {
      "cell_type": "markdown",
      "source": [
        " #15:WHAT IS AN ABSTRACT CLASS IN PYTHON?\n",
        " ANS:An abstract class in Python is a class that cannot be instantiated directly and is designed to be a base class for other classes. It can contain abstract methods (methods without implementation) that must be implemented by its child classes.\n",
        "\n",
        "Key Points:\n",
        "Defined using the abc module (abc stands for Abstract Base Classes).\n",
        "\n",
        "Uses the ABC class and the @abstractmethod decorator.\n",
        "\n",
        "Helps in enforcing a contract — ensuring that all subclasses implement certain methods.\n",
        "\n"
      ],
      "metadata": {
        "id": "AFmckQSXO7BQ"
      }
    },
    {
      "cell_type": "markdown",
      "source": [
        " #16:WHAT ARE THE ADVANTAGES OF OOP?\n",
        " ANS-1. Modularity\n",
        "Code is divided into classes and objects.\n",
        "\n",
        "Each class is a self-contained unit, making code easier to manage and update.\n",
        "\n",
        " 2. Reusability\n",
        "Using inheritance, you can reuse existing code.\n",
        "\n",
        "Avoids duplication and saves time.\n",
        "\n",
        " 3. Data Hiding (Encapsulation)\n",
        "Data is hidden inside classes and accessed via methods.\n",
        "\n",
        "Improves security and data integrity.\n",
        "\n",
        " 4. Maintainability\n",
        "Easier to fix bugs or add features.\n",
        "\n",
        "Changes in one part usually don't affect others (if well-designed).\n",
        "\n",
        " 5. Extensibility\n",
        "New features can be added using inheritance or polymorphism without modifying existing code.\n",
        "\n",
        " 6. Polymorphism\n",
        "The same method name can have different behaviors depending on the object.\n",
        "\n",
        "Enhances flexibility and code readability.\n",
        "\n",
        " 7. Real-world Modeling\n",
        "Objects in code represent real-world entities.\n",
        "\n",
        "Makes complex software easier to design and understand.\n",
        "\n"
      ],
      "metadata": {
        "id": "hxbairuYPpVg"
      }
    },
    {
      "cell_type": "markdown",
      "source": [
        "#17:WHAT IS THE DIFFERNCE BETWEEN A CLASS VARIABLE AND AN INSTANCE VARIABLE?\n",
        " ANS: Class Variable\n",
        "Belongs to the class.\n",
        "\n",
        "Shared by all instances of the class.\n",
        "\n",
        "Defined outside any methods, usually right under the class definition.\n",
        "\n",
        " Used for: Shared data that is the same for all objects.\n",
        "\n",
        " Instance Variable\n",
        "Belongs to the specific object (instance).\n",
        "\n",
        "Each object has its own copy.\n",
        "\n",
        "Defined inside the __init__() method (or any method using self).\n",
        "\n",
        " Used for: Data unique to each object.\n",
        "\n"
      ],
      "metadata": {
        "id": "GMqAd_7lQp9Q"
      }
    },
    {
      "cell_type": "markdown",
      "source": [
        " #18:WHAT IS MULTIPLE INHERITANCE IN PYTHON?\n",
        " ANS:Multiple Inheritance is a feature in Python where a class can inherit from more than one parent class. This allows the child class to access the attributes and methods of multiple base classes.\n",
        "\n",
        "class Father:\n",
        "    def skills(self):\n",
        "        print(\"Driving, Fishing\")\n",
        "\n",
        "class Mother:\n",
        "    def hobbies(self):\n",
        "        print(\"Cooking, Painting\")\n",
        "\n",
        "class Child(Father, Mother):\n",
        "    def sports(self):\n",
        "        print(\"Football, Chess\")\n",
        "\n",
        "c = Child()\n",
        "c.skills()     # From Father\n",
        "c.hobbies()    # From Mother\n",
        "c.sports()     # From Child\n"
      ],
      "metadata": {
        "id": "hD-mHi2wR7jZ"
      }
    },
    {
      "cell_type": "markdown",
      "source": [
        " #19:EXPLAIN THE PURPOSE OF\"_ _STR_ _'AND'_ _REPR_ _\"METHOD IN PYTHON.\n",
        " ANS:In Python, __str__() and __repr__() are special (dunder) methods used to define how objects of a class are represented as strings.\n",
        "\n",
        "__str__() → Human-readable representation\n",
        "Called by the built-in print() function.\n",
        "\n",
        "Intended for end users.\n",
        "\n",
        "Used when you want to display a nicely formatted string.\n",
        "\n",
        " __repr__() → Developer/debugging-friendly representation\n",
        "Called by default in the Python shell or by repr() function.\n",
        "\n",
        "Should return a valid Python expression that can recreate the object (if possible).\n",
        "\n",
        "Used for debugging and development.\n",
        "\n"
      ],
      "metadata": {
        "id": "BqNU0P5bSpk3"
      }
    },
    {
      "cell_type": "markdown",
      "source": [
        " #20: WHAT IS THE SIGNIFICANCE OF THE 'SUPER()'FUNCTION IN PYTHON?\n",
        " ANS:The super() function in Python is used to call methods of a parent (or superclass) from within a child class. It is especially useful in inheritance when you want to extend or modify the behavior of a method from the parent class without completely overriding it.\n",
        "\n",
        "Simplifies method chaining in inheritance.\n",
        "\n",
        "Enhances code reuse and maintainability.\n",
        "\n",
        "Works well with dynamic class structures.\n",
        "\n"
      ],
      "metadata": {
        "id": "1trl8afBTm63"
      }
    },
    {
      "cell_type": "markdown",
      "source": [
        " #21:WHAT IS THE SIGNIFICANCE OF THE_ _DEL_ _METHOD IN PYTHON?\n",
        " ANS:The __del__() method in Python is a special method known as a destructor. It is called automatically when an object is about to be destroyed, usually when it is no longer referenced in memory.\n",
        "  \n",
        "To define cleanup actions (like closing files, releasing resources, or disconnecting from a database) before the object is deleted.\n",
        "\n",
        "It's the opposite of a constructor (__init__())."
      ],
      "metadata": {
        "id": "bKwaPfYcUeXn"
      }
    },
    {
      "cell_type": "markdown",
      "source": [
        " #22:WHAT IS THE DIFFERENCE BETWEEN @STATICMETHOD AND @CLASSMETHOD IN PYTHON?\n",
        " ANS:In Python, both @staticmethod and @classmethod are decorators used to define methods that are not instance methods, but they differ in how they behave and what they can access.\n",
        "\n",
        "@staticmethod\n",
        "Does NOT take self or cls as the first argument.\n",
        "\n",
        "Can’t access or modify class state or instance state.\n",
        "\n",
        "Used when the method doesn’t depend on the object or the class.\n",
        "\n",
        " Just a normal function inside a class (for logical grouping).\n",
        " @classmethod\n",
        "Takes cls as the first parameter (refers to the class itself).\n",
        "\n",
        "Can access and modify class variables.\n",
        "\n",
        "Used for factory methods or operations that affect the class as a whole.\n",
        "\n"
      ],
      "metadata": {
        "id": "HCZs8-8GVSy_"
      }
    },
    {
      "cell_type": "markdown",
      "source": [
        " #23:HOW DOES POLYMORPHISM WORK IN PYTHON WITH INHERITANCE?\n",
        " ANS:Polymorphism means \"many forms\" — in Python, it allows different classes to be used interchangeably through a common interface, especially when inherited from a common parent class.\n",
        "\n",
        " With Inheritance:\n",
        "When a child class overrides a method from its parent class, and we call the method using a common reference, Python automatically calls the appropriate version based on the object's actual class — not the reference type.\n",
        "\n"
      ],
      "metadata": {
        "id": "mWRzbKBoWp0G"
      }
    },
    {
      "cell_type": "markdown",
      "source": [
        " #24:WHAT IS METHOD CHAINING IN PYTHON OOP?\n",
        " ANS:Method Chaining in Python OOP is a technique where multiple methods are called on the same object in a single line, one after another — like a chain.\n",
        "\n",
        "Each method in the chain returns self (the current object) so the next method can be called on it.\n",
        "Makes code more concise, readable, and fluent.\n",
        "\n",
        "Common in libraries like Pandas, Flask, and ORM frameworks."
      ],
      "metadata": {
        "id": "OdSopiePXNC-"
      }
    },
    {
      "cell_type": "markdown",
      "source": [
        " #25:WHAT IS THE PURPOSE OF THE_ _CALL_ _METHOD IN PYTHON?\n",
        " ANS:The __call__() method in Python allows an instance of a class to be called like a function.\n",
        "\n",
        "In other words, if a class has a __call__() method defined, then its object can be used with parentheses (), just like you call a function.\n",
        "\n",
        "Purpose of __call__():\n",
        "Make objects behave like functions.\n",
        "\n",
        "Add custom behavior when the object is \"called\".\n",
        "\n",
        "Useful in function wrappers, decorators, machine learning models, etc.\n",
        "\n"
      ],
      "metadata": {
        "id": "kUfwQ-WrXnwG"
      }
    },
    {
      "cell_type": "markdown",
      "source": [
        "#PRACTICAL QUESTION"
      ],
      "metadata": {
        "id": "hDJMo6P-a3hf"
      }
    },
    {
      "cell_type": "markdown",
      "source": [
        " #1:CREATE A PARENT CLASS ANIMAL WITH A METHOD SPEAK()THAT PRINTS A GENERIC MESSAGE.CREATE A CHILD CLASS DOG THAT OVERRIDES THE SPEAK()METHOD TO PRINT\"BARK!\"."
      ],
      "metadata": {
        "id": "-OD8RL4-bFy9"
      }
    },
    {
      "cell_type": "code",
      "source": [
        "# Parent class\n",
        "class Animal:\n",
        "    def speak(self):\n",
        "        print(\"The animal makes a sound.\")\n",
        "\n",
        "# Child class\n",
        "class Dog(Animal):\n",
        "    def speak(self):\n",
        "        print(\"Bark!\")\n",
        "\n",
        "# Create objects and call the methods\n",
        "a = Animal()\n",
        "a.speak()  # Output: The animal makes a sound.\n",
        "\n",
        "d = Dog()\n",
        "d.speak()  # Output: Bark!\n"
      ],
      "metadata": {
        "colab": {
          "base_uri": "https://localhost:8080/"
        },
        "id": "n_Rck7SEb7nG",
        "outputId": "6d3022d4-5106-4ef5-885d-fd812686265a"
      },
      "execution_count": null,
      "outputs": [
        {
          "output_type": "stream",
          "name": "stdout",
          "text": [
            "The animal makes a sound.\n",
            "Bark!\n"
          ]
        }
      ]
    },
    {
      "cell_type": "markdown",
      "source": [
        " #2:WRITE A PROGRAM TO CREATE AN ABSTRACT CLASS SHAPE WITH A METHOD AREA().DEVICE CLASSES CIRCLE AND RECTANGLE FROM IT AND IMPLEMENT THE AREA()METHOD IN BOTH"
      ],
      "metadata": {
        "id": "eCG1u19xcKIQ"
      }
    },
    {
      "cell_type": "code",
      "source": [
        "from abc import ABC, abstractmethod\n",
        "import math\n",
        "\n",
        "# Abstract class\n",
        "class Shape(ABC):\n",
        "    @abstractmethod\n",
        "    def area(self):\n",
        "        pass\n",
        "\n",
        "# Circle class\n",
        "class Circle(Shape):\n",
        "    def __init__(self, radius):\n",
        "        self.radius = radius\n",
        "\n",
        "    def area(self):\n",
        "        return math.pi * self.radius ** 2\n",
        "\n",
        "# Rectangle class\n",
        "class Rectangle(Shape):\n",
        "    def __init__(self, length, width):\n",
        "        self.length = length\n",
        "        self.width = width\n",
        "\n",
        "    def area(self):\n",
        "        return self.length * self.width\n",
        "\n",
        "# Testing\n",
        "c = Circle(5)\n",
        "print(\"Area of Circle:\", c.area())  # Output: Area of Circle: 78.54...\n",
        "\n",
        "r = Rectangle(4, 6)\n",
        "print(\"Area of Rectangle:\", r.area())  # Output: Area of Rectangle: 24\n"
      ],
      "metadata": {
        "colab": {
          "base_uri": "https://localhost:8080/"
        },
        "id": "-ryMuQYkcreu",
        "outputId": "0ffc465a-0900-42e1-8a4d-26423db67b27"
      },
      "execution_count": null,
      "outputs": [
        {
          "output_type": "stream",
          "name": "stdout",
          "text": [
            "Area of Circle: 78.53981633974483\n",
            "Area of Rectangle: 24\n"
          ]
        }
      ]
    },
    {
      "cell_type": "markdown",
      "source": [
        " #3:IMPLEMENT A MULTI-LEVEL INHERITANCE SCENARIO WHERE A CLASS VEHICLE HAS AN ATTRIBUTES TYPE.DERIVE A CLASS CAR AND FURTHER DERIVE A CLASS ELECTRICCAR THAT ADD A BATTERY ATTRIBUTES."
      ],
      "metadata": {
        "id": "ig-3ZNL6c0O4"
      }
    },
    {
      "cell_type": "code",
      "source": [
        "# Base class\n",
        "class Vehicle:\n",
        "    def __init__(self, vehicle_type):\n",
        "        self.type = vehicle_type\n",
        "\n",
        "    def show_type(self):\n",
        "        print(f\"Vehicle Type: {self.type}\")\n",
        "\n",
        "# Derived class (1st level)\n",
        "class Car(Vehicle):\n",
        "    def __init__(self, vehicle_type, brand):\n",
        "        super().__init__(vehicle_type)\n",
        "        self.brand = brand\n",
        "\n",
        "    def show_brand(self):\n",
        "        print(f\"Car Brand: {self.brand}\")\n",
        "\n",
        "# Derived class (2nd level)\n",
        "class ElectricCar(Car):\n",
        "    def __init__(self, vehicle_type, brand, battery_capacity):\n",
        "        super().__init__(vehicle_type, brand)\n",
        "        self.battery = battery_capacity\n",
        "\n",
        "    def show_battery(self):\n",
        "        print(f\"Battery Capacity: {self.battery} kWh\")\n",
        "\n",
        "# Testing\n",
        "e_car = ElectricCar(\"Four-Wheeler\", \"Tesla\", 75)\n",
        "e_car.show_type()       # From Vehicle\n",
        "e_car.show_brand()      # From Car\n",
        "e_car.show_battery()    # From ElectricCar\n"
      ],
      "metadata": {
        "colab": {
          "base_uri": "https://localhost:8080/"
        },
        "id": "DSfJ6IMVdszH",
        "outputId": "aa88ad3b-d9c3-4437-f07a-99dd135edc0e"
      },
      "execution_count": null,
      "outputs": [
        {
          "output_type": "stream",
          "name": "stdout",
          "text": [
            "Vehicle Type: Four-Wheeler\n",
            "Car Brand: Tesla\n",
            "Battery Capacity: 75 kWh\n"
          ]
        }
      ]
    },
    {
      "cell_type": "markdown",
      "source": [
        " #4:DEMONSTRATE POLYMORPHISM BY CREATING A BASE CLASS BIRD WITH A METHOD FLY().CREATE TWO DERIVED CLASSES SPARROW AND PENGUIN THAT OVERRIDE THE FLY()METHOD."
      ],
      "metadata": {
        "id": "hF3bl3wedwHO"
      }
    },
    {
      "cell_type": "code",
      "source": [
        "# Base class\n",
        "class Bird:\n",
        "    def fly(self):\n",
        "        print(\"Some birds can fly.\")\n",
        "\n",
        "# Derived class 1\n",
        "class Sparrow(Bird):\n",
        "    def fly(self):\n",
        "        print(\"Sparrow flies high in the sky.\")\n",
        "\n",
        "# Derived class 2\n",
        "class Penguin(Bird):\n",
        "    def fly(self):\n",
        "        print(\"Penguins cannot fly, but they swim well.\")\n",
        "\n",
        "# Function demonstrating polymorphism\n",
        "def show_flight(bird):\n",
        "    bird.fly()\n",
        "\n",
        "# Testing\n",
        "b = Bird()\n",
        "s = Sparrow()\n",
        "p = Penguin()\n",
        "\n",
        "show_flight(b)  # Output: Some birds can fly.\n",
        "show_flight(s)  # Output: Sparrow flies high in the sky.\n",
        "show_flight(p)  # Output: Penguins cannot fly, but they swim well.\n"
      ],
      "metadata": {
        "colab": {
          "base_uri": "https://localhost:8080/"
        },
        "id": "479gpZnveaBm",
        "outputId": "08b91e97-ab91-4b83-eadc-76352ae2cba9"
      },
      "execution_count": null,
      "outputs": [
        {
          "output_type": "stream",
          "name": "stdout",
          "text": [
            "Some birds can fly.\n",
            "Sparrow flies high in the sky.\n",
            "Penguins cannot fly, but they swim well.\n"
          ]
        }
      ]
    },
    {
      "cell_type": "markdown",
      "source": [
        " #5:WRITE A PROGRAM TO DEMONSTRATE ENCAPSULATION BY CREATING A CLASS BANKACCOUNT WITH PRIVATE ATTRIBUTRS BALANCE AAND METHOD TO DEPOSIT,WITHDRAW,AND CHECK BALANCE."
      ],
      "metadata": {
        "id": "d5bLC7O4ecqH"
      }
    },
    {
      "cell_type": "code",
      "source": [
        "class BankAccount:\n",
        "    def __init__(self, initial_balance=0):\n",
        "        self.__balance = initial_balance  # Private attribute\n",
        "\n",
        "    def deposit(self, amount):\n",
        "        if amount > 0:\n",
        "            self.__balance += amount\n",
        "            print(f\"Deposited: ₹{amount}\")\n",
        "        else:\n",
        "            print(\"Deposit amount must be positive.\")\n",
        "\n",
        "    def withdraw(self, amount):\n",
        "        if 0 < amount <= self.__balance:\n",
        "            self.__balance -= amount\n",
        "            print(f\"Withdrawn: ₹{amount}\")\n",
        "        else:\n",
        "            print(\"Insufficient balance or invalid amount.\")\n",
        "\n",
        "    def check_balance(self):\n",
        "        print(f\"Current Balance: ₹{self.__balance}\")\n",
        "\n",
        "# Testing\n",
        "account = BankAccount(1000)\n",
        "account.check_balance()     # Output: Current Balance: ₹1000\n",
        "account.deposit(500)        # Output: Deposited: ₹500\n",
        "account.withdraw(300)       # Output: Withdrawn: ₹300\n",
        "account.check_balance()     # Output: Current Balance: ₹1200\n",
        "\n",
        "# Trying to access private attribute directly\n",
        "# print(account.__balance)  # ❌ This will raise an AttributeError\n"
      ],
      "metadata": {
        "colab": {
          "base_uri": "https://localhost:8080/"
        },
        "id": "OXwuipOhfJSW",
        "outputId": "73f91215-10a9-4153-9b4f-562ba1c5b4ab"
      },
      "execution_count": null,
      "outputs": [
        {
          "output_type": "stream",
          "name": "stdout",
          "text": [
            "Current Balance: ₹1000\n",
            "Deposited: ₹500\n",
            "Withdrawn: ₹300\n",
            "Current Balance: ₹1200\n"
          ]
        }
      ]
    },
    {
      "cell_type": "markdown",
      "source": [
        " #6:DEMONSTRATE RUNTIME POLYMORPHISM USING A METHOD PLAY() IN A BASE CLASS INSTRUMENT>DERIVE CLASSES GUITAR AND PIANO THAT IMPLEMENT THERI OWN VERSION OFPLAY()."
      ],
      "metadata": {
        "id": "U6oQ1DiWfWu-"
      }
    },
    {
      "cell_type": "code",
      "source": [
        "# Base class\n",
        "class Instrument:\n",
        "    def play(self):\n",
        "        print(\"Playing an instrument.\")\n",
        "\n",
        "# Derived class 1\n",
        "class Guitar(Instrument):\n",
        "    def play(self):\n",
        "        print(\"Strumming the guitar.\")\n",
        "\n",
        "# Derived class 2\n",
        "class Piano(Instrument):\n",
        "    def play(self):\n",
        "        print(\"Playing the piano.\")\n",
        "\n",
        "# Function that uses polymorphism\n",
        "def start_playing(instrument):\n",
        "    instrument.play()\n",
        "\n",
        "# Testing\n",
        "i = Instrument()\n",
        "g = Guitar()\n",
        "p = Piano()\n",
        "\n",
        "start_playing(i)  # Output: Playing an instrument.\n",
        "start_playing(g)  # Output: Strumming the guitar.\n",
        "start_playing(p)  # Output: Playing the piano.\n"
      ],
      "metadata": {
        "colab": {
          "base_uri": "https://localhost:8080/"
        },
        "id": "-ZAJVXaYf-1V",
        "outputId": "61df849c-018a-4a94-952d-5372f63f12ef"
      },
      "execution_count": null,
      "outputs": [
        {
          "output_type": "stream",
          "name": "stdout",
          "text": [
            "Playing an instrument.\n",
            "Strumming the guitar.\n",
            "Playing the piano.\n"
          ]
        }
      ]
    },
    {
      "cell_type": "markdown",
      "source": [
        " #7: CREATE A CLASS MATHOPERATION WITH A CLASS METHOD ADD_NUMBERS()TO ADD TWO NUMBERS AND A STATIC METHOD SUBTRACT_NUMBERS()TO SUBTRACT TWO NUMBERS."
      ],
      "metadata": {
        "id": "zuI9LmuqgAuH"
      }
    },
    {
      "cell_type": "code",
      "source": [
        "class MathOperation:\n",
        "    @classmethod\n",
        "    def add_numbers(cls, a, b):\n",
        "        return a + b\n",
        "\n",
        "    @staticmethod\n",
        "    def subtract_numbers(a, b):\n",
        "        return a - b\n",
        "\n",
        "# Testing\n",
        "print(\"Addition:\", MathOperation.add_numbers(10, 5))       # Output: 15\n",
        "print(\"Subtraction:\", MathOperation.subtract_numbers(10, 5))  # Output: 5\n"
      ],
      "metadata": {
        "colab": {
          "base_uri": "https://localhost:8080/"
        },
        "id": "mGDZ7TB3ghhu",
        "outputId": "a4ba0d4f-e488-481e-9d89-27f0c4ec1bfa"
      },
      "execution_count": null,
      "outputs": [
        {
          "output_type": "stream",
          "name": "stdout",
          "text": [
            "Addition: 15\n",
            "Subtraction: 5\n"
          ]
        }
      ]
    },
    {
      "cell_type": "markdown",
      "source": [
        " #8:IMPLEMENT A CLASS PERSON WITH A CLASS METHOD TO COUNT THE TOTAL NUMBER OF PERSON CREATED."
      ],
      "metadata": {
        "id": "tf1F1XFOgjlf"
      }
    },
    {
      "cell_type": "code",
      "source": [
        "class Person:\n",
        "    count = 0  # Class variable to track number of persons\n",
        "\n",
        "    def __init__(self, name):\n",
        "        self.name = name\n",
        "        Person.count += 1\n",
        "\n",
        "    @classmethod\n",
        "    def total_persons(cls):\n",
        "        print(f\"Total persons created: {cls.count}\")\n",
        "\n",
        "# Creating Person objects\n",
        "p1 = Person(\"Divya\")\n",
        "p2 = Person(\"Ankit\")\n",
        "p3 = Person(\"Riya\")\n",
        "\n",
        "# Display total count\n",
        "Person.total_persons()  # Output: Total persons created: 3\n"
      ],
      "metadata": {
        "colab": {
          "base_uri": "https://localhost:8080/"
        },
        "id": "jdLnDOcOg4l1",
        "outputId": "87262518-4ff3-4a25-f053-b9fb0d7bd6e9"
      },
      "execution_count": null,
      "outputs": [
        {
          "output_type": "stream",
          "name": "stdout",
          "text": [
            "Total persons created: 3\n"
          ]
        }
      ]
    },
    {
      "cell_type": "markdown",
      "source": [
        " #9:WRITE A CLASS FRACTION WITH ATTRIBUTES NUMERATOR AND DENOMINATOR.OVERRIDE THE STR METHOD TO DISPLAY THE FRACTION AS \"NUMERATOR/DENOMINATOR\"."
      ],
      "metadata": {
        "id": "9YYmDDWvhBMP"
      }
    },
    {
      "cell_type": "code",
      "source": [
        "class Fraction:\n",
        "    def __init__(self, numerator, denominator):\n",
        "        self.numerator = numerator\n",
        "        self.denominator = denominator\n",
        "\n",
        "    def __str__(self):\n",
        "        return f\"{self.numerator}/{self.denominator}\"\n",
        "\n",
        "# Testing\n",
        "f1 = Fraction(3, 4)\n",
        "f2 = Fraction(5, 8)\n",
        "\n",
        "print(f1)  # Output: 3/4\n",
        "print(f2)  # Output: 5/8\n"
      ],
      "metadata": {
        "colab": {
          "base_uri": "https://localhost:8080/"
        },
        "id": "u42cri6RiEhN",
        "outputId": "9bc3028b-d7f4-4e51-a29a-19bddb8abbe7"
      },
      "execution_count": null,
      "outputs": [
        {
          "output_type": "stream",
          "name": "stdout",
          "text": [
            "3/4\n",
            "5/8\n"
          ]
        }
      ]
    },
    {
      "cell_type": "markdown",
      "source": [
        " #10:DEMONSTRATE OPERATOR OVERLOADING BY CREATING A CLASS VECTOR AND OVERRIDING THE ADD METHOD TO ADD TWO VECTORS."
      ],
      "metadata": {
        "id": "hD1F8_6liHHv"
      }
    },
    {
      "cell_type": "code",
      "source": [
        "class Vector:\n",
        "    def __init__(self, x, y):\n",
        "        self.x = x\n",
        "        self.y = y\n",
        "\n",
        "    def __add__(self, other):\n",
        "        return Vector(self.x + other.x, self.y + other.y)\n",
        "\n",
        "    def __str__(self):\n",
        "        return f\"Vector({self.x}, {self.y})\"\n",
        "\n",
        "# Testing\n",
        "v1 = Vector(2, 3)\n",
        "v2 = Vector(4, 1)\n",
        "\n",
        "v3 = v1 + v2  # This calls v1.__add__(v2)\n",
        "print(v3)     # Output: Vector(6, 4)\n"
      ],
      "metadata": {
        "colab": {
          "base_uri": "https://localhost:8080/"
        },
        "id": "diZkvakuilul",
        "outputId": "d0f16dfa-b420-4da8-edb3-06b45e077d6f"
      },
      "execution_count": null,
      "outputs": [
        {
          "output_type": "stream",
          "name": "stdout",
          "text": [
            "Vector(6, 4)\n"
          ]
        }
      ]
    },
    {
      "cell_type": "markdown",
      "source": [
        " #11:CREATE A CLASS PERSON WITH ATTRIBUTES NAME AND AGE.ADD A METHOD GREET()THAT PRINTS\"HELLO,MY NAME IS {NAME} AND I AM {AGE}YEARS OLD\"."
      ],
      "metadata": {
        "id": "VXbOY4A8ioF-"
      }
    },
    {
      "cell_type": "code",
      "source": [
        "class Person:\n",
        "    def __init__(self, name, age):\n",
        "        self.name = name\n",
        "        self.age = age\n",
        "\n",
        "    def greet(self):\n",
        "        print(f\"Hello, my name is {self.name} and I am {self.age} years old.\")\n",
        "\n",
        "# Testing\n",
        "p1 = Person(\"Divya\", 22)\n",
        "p1.greet()\n"
      ],
      "metadata": {
        "colab": {
          "base_uri": "https://localhost:8080/"
        },
        "id": "0dMsjtTCjc19",
        "outputId": "74051456-9246-4f55-c9c5-0b5a415f093b"
      },
      "execution_count": null,
      "outputs": [
        {
          "output_type": "stream",
          "name": "stdout",
          "text": [
            "Hello, my name is Divya and I am 22 years old.\n"
          ]
        }
      ]
    },
    {
      "cell_type": "markdown",
      "source": [
        " #12:IMPLEMENT A CLASS STUDENT WITH ATTRIBUTES NAME AND GRADES.CREATE A METHOD AVERAGE_GRADE() TO CALCULATE THE AREA."
      ],
      "metadata": {
        "id": "bvJ3P8Zyjf0H"
      }
    },
    {
      "cell_type": "code",
      "source": [
        "class Student:\n",
        "    def __init__(self, name, grades):\n",
        "        self.name = name\n",
        "        self.grades = grades  # List of grades\n",
        "\n",
        "    def average_grade(self):\n",
        "        if self.grades:\n",
        "            return sum(self.grades) / len(self.grades)\n",
        "        else:\n",
        "            return 0\n",
        "\n",
        "# Testing\n",
        "s1 = Student(\"Divya\", [85, 90, 78, 92])\n",
        "print(f\"{s1.name}'s average grade is: {s1.average_grade():.2f}\")\n"
      ],
      "metadata": {
        "colab": {
          "base_uri": "https://localhost:8080/"
        },
        "id": "LzvlrODLkCx9",
        "outputId": "42337f90-d322-46ac-c5fa-d0a0c34a834b"
      },
      "execution_count": null,
      "outputs": [
        {
          "output_type": "stream",
          "name": "stdout",
          "text": [
            "Divya's average grade is: 86.25\n"
          ]
        }
      ]
    },
    {
      "cell_type": "markdown",
      "source": [
        " #13: CREATE A CLASS RECTANGLE WITH METHOD SET_DIMENSION()TO SET THE DIMENSIONS AND AREA() TO CALCULATE THE AREA."
      ],
      "metadata": {
        "id": "IHDgJs7ekF3X"
      }
    },
    {
      "cell_type": "code",
      "source": [
        "class Rectangle:\n",
        "    def __init__(self):\n",
        "        self.length = 0\n",
        "        self.width = 0\n",
        "\n",
        "    def set_dimension(self, length, width):\n",
        "        self.length = length\n",
        "        self.width = width\n",
        "\n",
        "    def area(self):\n",
        "        return self.length * self.width\n",
        "\n",
        "# Testing\n",
        "r1 = Rectangle()\n",
        "r1.set_dimension(5, 3)\n",
        "print(f\"Area of Rectangle: {r1.area()}\")  # Output: 15\n"
      ],
      "metadata": {
        "colab": {
          "base_uri": "https://localhost:8080/"
        },
        "id": "YGid2sa0kkAN",
        "outputId": "29cebac5-cfbe-4f0d-c0f5-d269639b0668"
      },
      "execution_count": null,
      "outputs": [
        {
          "output_type": "stream",
          "name": "stdout",
          "text": [
            "Area of Rectangle: 15\n"
          ]
        }
      ]
    },
    {
      "cell_type": "markdown",
      "source": [
        " #14:CREATE A CLASS EMPLOYEE WITH A METHOD CALCULATE_SALARY()THAT COMPUTES THE SALARY BASED ON HOURS WORKED AND HOURLY RATE.CREATE A DERIVED CLASS MANAGER THAT ADDS A BONUS TO THE SALARY."
      ],
      "metadata": {
        "id": "k4Y3EfnqkqOF"
      }
    },
    {
      "cell_type": "code",
      "source": [
        "# Base class\n",
        "class Employee:\n",
        "    def __init__(self, name, hours_worked, hourly_rate):\n",
        "        self.name = name\n",
        "        self.hours_worked = hours_worked\n",
        "        self.hourly_rate = hourly_rate\n",
        "\n",
        "    def calculate_salary(self):\n",
        "        return self.hours_worked * self.hourly_rate\n",
        "\n",
        "# Derived class\n",
        "class Manager(Employee):\n",
        "    def __init__(self, name, hours_worked, hourly_rate, bonus):\n",
        "        super().__init__(name, hours_worked, hourly_rate)\n",
        "        self.bonus = bonus\n",
        "\n",
        "    def calculate_salary(self):\n",
        "        base_salary = super().calculate_salary()\n",
        "        return base_salary + self.bonus\n",
        "\n",
        "# Testing\n",
        "e1 = Employee(\"Alice\", 40, 20)\n",
        "m1 = Manager(\"Bob\", 40, 20, 500)\n",
        "\n",
        "print(f\"{e1.name}'s salary: ₹{e1.calculate_salary()}\")\n",
        "print(f\"{m1.name}'s salary: ₹{m1.calculate_salary()}\")"
      ],
      "metadata": {
        "colab": {
          "base_uri": "https://localhost:8080/"
        },
        "id": "CbkzDKYglQc8",
        "outputId": "c14005bc-f256-4c07-ddfa-35d9ae0c2e87"
      },
      "execution_count": null,
      "outputs": [
        {
          "output_type": "stream",
          "name": "stdout",
          "text": [
            "Alice's salary: ₹800\n",
            "Bob's salary: ₹1300\n"
          ]
        }
      ]
    },
    {
      "cell_type": "markdown",
      "source": [
        " #15:CREATE A CLASS PRODUCT WITH ATTRIBUTES NAME,PRICE,AND QUANTITY.IMPLEMENT A METHOD TOTAL_PRICE() THAT CALCULATES THE TOTAL PRICE OF THE PRODUCT."
      ],
      "metadata": {
        "id": "JloBp96Elajm"
      }
    },
    {
      "cell_type": "code",
      "source": [
        "class Product:\n",
        "    def __init__(self, name, price, quantity):\n",
        "        self.name = name\n",
        "        self.price = price\n",
        "        self.quantity = quantity\n",
        "\n",
        "    def total_price(self):\n",
        "        return self.price * self.quantity\n",
        "\n",
        "# Testing\n",
        "p1 = Product(\"Laptop\", 50000, 2)\n",
        "print(f\"Product: {p1.name}\")\n",
        "print(f\"Total Price: ₹{p1.total_price()}\")\n"
      ],
      "metadata": {
        "colab": {
          "base_uri": "https://localhost:8080/"
        },
        "id": "CIAbeRCMmCiF",
        "outputId": "c846fe50-dedd-485e-95f0-809d0b206bb3"
      },
      "execution_count": null,
      "outputs": [
        {
          "output_type": "stream",
          "name": "stdout",
          "text": [
            "Product: Laptop\n",
            "Total Price: ₹100000\n"
          ]
        }
      ]
    },
    {
      "cell_type": "markdown",
      "source": [
        " #16:CREATE A CLASS ANIMAL WITH AN ABSTRACT METHOD SOUND().CREATE TWO DERIVED CLASSES COW AND SHEEP THAT IMPLEMENT THE SOUND()METHOD."
      ],
      "metadata": {
        "id": "M2AkvL-UmENf"
      }
    },
    {
      "cell_type": "code",
      "source": [
        "from abc import ABC, abstractmethod\n",
        "\n",
        "# Abstract base class\n",
        "class Animal(ABC):\n",
        "    @abstractmethod\n",
        "    def sound(self):\n",
        "        pass\n",
        "\n",
        "# Derived class 1\n",
        "class Cow(Animal):\n",
        "    def sound(self):\n",
        "        print(\"Cow says: Moo!\")\n",
        "\n",
        "# Derived class 2\n",
        "class Sheep(Animal):\n",
        "    def sound(self):\n",
        "        print(\"Sheep says: Baa!\")\n",
        "\n",
        "# Testing\n",
        "a1 = Cow()\n",
        "a2 = Sheep()\n",
        "\n",
        "a1.sound()  # Output: Cow says: Moo!\n",
        "a2.sound()  # Output: Sheep says: Baa!\n"
      ],
      "metadata": {
        "colab": {
          "base_uri": "https://localhost:8080/"
        },
        "id": "n4HQtF6Bmd9s",
        "outputId": "2aee36be-c334-496f-dafe-78e624a0b961"
      },
      "execution_count": null,
      "outputs": [
        {
          "output_type": "stream",
          "name": "stdout",
          "text": [
            "Cow says: Moo!\n",
            "Sheep says: Baa!\n"
          ]
        }
      ]
    },
    {
      "cell_type": "markdown",
      "source": [
        " #17:CREATE A CLASS BOOK WITH ATTRIBUTES TITLE,AUTHOR,AND YEAR_PUBLISHED.ADD A METHOD GET_BOOK_INFO() THAT  RETURNS A FORMATTED STRING WITH THE BOOK'S DETAILS."
      ],
      "metadata": {
        "id": "Gbn6s8jZmfy0"
      }
    },
    {
      "cell_type": "code",
      "source": [
        "class Book:\n",
        "    def __init__(self, title, author, year_published):\n",
        "        self.title = title\n",
        "        self.author = author\n",
        "        self.year_published = year_published\n",
        "\n",
        "    def get_book_info(self):\n",
        "        return f\"'{self.title}' by {self.author} (Published in {self.year_published})\"\n",
        "\n",
        "# Testing\n",
        "b1 = Book(\"To Kill a Mockingbird\", \"Harper Lee\", 1960)\n",
        "print(b1.get_book_info())\n"
      ],
      "metadata": {
        "colab": {
          "base_uri": "https://localhost:8080/"
        },
        "id": "wr8wGmtynBX0",
        "outputId": "9c8e853e-c63a-4fde-ed94-54930739c7da"
      },
      "execution_count": null,
      "outputs": [
        {
          "output_type": "stream",
          "name": "stdout",
          "text": [
            "'To Kill a Mockingbird' by Harper Lee (Published in 1960)\n"
          ]
        }
      ]
    },
    {
      "cell_type": "markdown",
      "source": [
        " #18:CREATE A CLASS HOUSE WITH ATTRIBUTES ADDRESS AND PRICE.CREATE A DERIVED CLASS MANSION THAT ADDS AN ATTRIBUTES NUMBER_OF_ROOMS."
      ],
      "metadata": {
        "id": "NRI-DzrsnD6m"
      }
    },
    {
      "cell_type": "code",
      "source": [
        "# Base class\n",
        "class House:\n",
        "    def __init__(self, address, price):\n",
        "        self.address = address\n",
        "        self.price = price\n",
        "\n",
        "    def show_info(self):\n",
        "        print(f\"Address: {self.address}\")\n",
        "        print(f\"Price: ₹{self.price}\")\n",
        "\n",
        "# Derived class\n",
        "class Mansion(House):\n",
        "    def __init__(self, address, price, number_of_rooms):\n",
        "        super().__init__(address, price)\n",
        "        self.number_of_rooms = number_of_rooms\n",
        "\n",
        "    def show_info(self):\n",
        "        super().show_info()\n",
        "        print(f\"Number of Rooms: {self.number_of_rooms}\")\n",
        "\n",
        "# Testing\n",
        "m1 = Mansion(\"123 Luxury Lane, Mumbai\", 50000000, 10)\n",
        "m1.show_info()\n"
      ],
      "metadata": {
        "colab": {
          "base_uri": "https://localhost:8080/"
        },
        "id": "-A-J3IBVnctU",
        "outputId": "e402e197-94f6-4573-a49c-1514977492f5"
      },
      "execution_count": null,
      "outputs": [
        {
          "output_type": "stream",
          "name": "stdout",
          "text": [
            "Address: 123 Luxury Lane, Mumbai\n",
            "Price: ₹50000000\n",
            "Number of Rooms: 10\n"
          ]
        }
      ]
    }
  ]
}