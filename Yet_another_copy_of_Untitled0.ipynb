{
  "nbformat": 4,
  "nbformat_minor": 0,
  "metadata": {
    "colab": {
      "provenance": [],
      "include_colab_link": true
    },
    "kernelspec": {
      "name": "python3",
      "display_name": "Python 3"
    },
    "language_info": {
      "name": "python"
    }
  },
  "cells": [
    {
      "cell_type": "markdown",
      "metadata": {
        "id": "view-in-github",
        "colab_type": "text"
      },
      "source": [
        "<a href=\"https://colab.research.google.com/github/ghule2510/data-structure/blob/main/Yet_another_copy_of_Untitled0.ipynb\" target=\"_parent\"><img src=\"https://colab.research.google.com/assets/colab-badge.svg\" alt=\"Open In Colab\"/></a>"
      ]
    },
    {
      "cell_type": "code",
      "source": [],
      "metadata": {
        "id": "a0PNyzOJITtA"
      },
      "execution_count": null,
      "outputs": []
    },
    {
      "cell_type": "markdown",
      "source": [
        "2.Explain the difference between mutable and immutable data types with example.\n",
        "Ans-Mutable Data Type – A mutable data type is one whose values can be changed.\n",
        "Example: List, Dictionaries, and Set\n",
        "Immutable Data Type – An immutable data type is one in which the values can’t be changed or altered.\n",
        "Example: String and Tuples"
      ],
      "metadata": {
        "id": "M94-eu9HtTaU"
      }
    },
    {
      "cell_type": "markdown",
      "source": [
        "1What are the data strure and why are they important?\n",
        "Ans-Data structures are specialized formats for organizing, storing, and accessing collections of data. They provide efficient ways to manage information based on its characteristics and intended use.\n",
        "Think of them as containers that hold your data and determine how you can interact with it. Different containers are better suited for different types of items.\n",
        "\n",
        "IMPORTANCE\n",
        "\n",
        "Choosing the right data structure significantly impacts the efficiency and performance of your program.\n",
        "Well-chosen data structures can:\n",
        "Simplify data manipulation (adding, removing, modifying elements)\n",
        "Optimize searching and sorting operations\n",
        "Conserve memory usage"
      ],
      "metadata": {
        "id": "olHTSaSasds7"
      }
    },
    {
      "cell_type": "markdown",
      "source": [],
      "metadata": {
        "id": "r-jyeob0A_-U"
      }
    },
    {
      "cell_type": "markdown",
      "source": [
        "3.What are the main difference between list and tuples in python?\n",
        "Ans-list can hold items of various data type\n",
        "Tuples-secure way to stored data that shouldn't be modified"
      ],
      "metadata": {
        "id": "rwHrPL24uUZ6"
      }
    },
    {
      "cell_type": "markdown",
      "source": [
        "4.Describe how dictionaries stored data\n",
        "Ans-Python dictionaries store data as key-value pairs using a hash table implementation. This structure allows for efficient retrieval of values based on their associated keys."
      ],
      "metadata": {
        "id": "dI9vS_Zkvu5T"
      }
    },
    {
      "cell_type": "markdown",
      "source": [
        "5.why might you use a set instead of a list in phython\n",
        "Ans-need to store unique elements and perform fast membership tests or mathematical set operations (like union, intersection, and difference). Lists, on the other hand, allow duplicate elements and maintain insertion order, making them suitable when element order and duplicates are important."
      ],
      "metadata": {
        "id": "DlCWIKbXwed4"
      }
    },
    {
      "cell_type": "markdown",
      "source": [
        "6.what is string in phython and how is it different from a list?\n",
        "Ans-A string in Python is an immutable sequence of characters, while a list is a mutable, ordered sequence of elements of any type. This means you cannot change a string after creation, but you can modify a list."
      ],
      "metadata": {
        "id": "D7Rty5ZZw8FA"
      }
    },
    {
      "cell_type": "markdown",
      "source": [
        "7.how do tuples ensure data integrity in phython\n",
        "Ans-Tuples ensure data integrity in Python by being immutable, meaning their elements cannot be changed after creation, thus preventing accidental modification."
      ],
      "metadata": {
        "id": "vlz2PVyDxfMb"
      }
    },
    {
      "cell_type": "markdown",
      "source": [
        "8.what is the hash table,and how does it relate to dictionaries in phython\n",
        "Ans-A hash table is a data structure that stores key-value pairs by using a hash function to compute an index (or \"hash code\") into an array of buckets, allowing for very fast data access.\n",
        "In Python, the built-in dictionary (dict) type is implemented using a hash table. This means that when you use a Python dictionary, you are leveraging the efficiency of an underlying hash table to store and retrieve your key-value pairs."
      ],
      "metadata": {
        "id": "ksoqzgAux7Iz"
      }
    },
    {
      "cell_type": "markdown",
      "source": [
        "9.can list contain different data types in python?\n",
        "Ans -yes(python lists can contain different data type"
      ],
      "metadata": {
        "id": "HEvjr7z8yc56"
      }
    },
    {
      "cell_type": "markdown",
      "source": [
        "10.Explain why strings are immutable in phython\n",
        "Ans -Strings are immutable in Python, meaning once created, you cannot change their content. This design choice offers several benefits, including performance optimizations (like string interning for memory efficiency), thread safety, and enabling their use as dictionary keys due to constant hash values. Any operation that appears to modify a string actually creates a new string object."
      ],
      "metadata": {
        "id": "nEKX3VUky7yF"
      }
    },
    {
      "cell_type": "markdown",
      "source": [
        "11.What advantages do dictionaries offer over list for certain task?\n",
        "Ans-Dictionaries offer fast lookups and the ability to map unique keys to values, making them ideal for data retrieval by specific identifiers. Lists, while ordered and good for sequential data, require linear searches, which are slower for large datasets."
      ],
      "metadata": {
        "id": "7cncjIa_E586"
      }
    },
    {
      "cell_type": "markdown",
      "source": [
        "12.Describe a scenario where using a tuple would be preferable over a list.\n",
        "ANS -A tuple is preferable for representing a fixed collection of related items, like the coordinates (x, y, z) of a point, where the immutability ensures data integrity."
      ],
      "metadata": {
        "id": "SYj2G8Q-FXPJ"
      }
    },
    {
      "cell_type": "markdown",
      "source": [
        "13.How do set handle duplicate values in phython\n",
        "Ans-*Sets in Python*\n",
        "\n",
        "In Python, a set is an unordered collection of unique elements. When you try to add a duplicate value to a set, it will automatically ignore the duplicate and keep only one instance of the value.\n",
        "\n",
        "Here's an example:\n",
        "my_set = {1, 2, 2, 3, 4, 4, 5}\n",
        "print(my_set)  # {1, 2, 3, 4, 5}\n",
        "As you can see, the duplicate values (2 and 4) are automatically removed, and the set only contains unique values.\n",
        "\n",
        "*Adding duplicates to a set*\n",
        "\n",
        "If you try to add a duplicate value to a set using the `add()` method, it will simply be ignored:\n",
        "my_set = {1, 2, 3}\n",
        "my_set.add(2)\n",
        "print(my_set)  # {1, 2, 3}\n",
        "In this case, the `add()` method doesn't raise an error or modify the set because the value 2 is already present.\n",
        "\n",
        "*Using set operations*\n",
        "\n",
        "Sets in Python also support various operations like union, intersection, and difference, which can be useful when working with duplicate values.\n",
        "\n",
        "For example, you can use the `union()` method to combine two sets and automatically remove duplicates:\n",
        "set1 = {1, 2, 3}\n",
        "set2 = {3, 4, 5}\n",
        "print(set1.union(set2))  # {1, 2, 3, 4, 5}\n",
        "Overall, sets in Python provide a convenient way to work with unique values and automatically handle duplicates."
      ],
      "metadata": {
        "id": "2DdVsj1PF4vT"
      }
    },
    {
      "cell_type": "markdown",
      "source": [
        "14.How does the \"in\"keyword work differently for list and dictionaries?\n",
        "Ans-*\"in\" Keyword in Python*\n",
        "\n",
        "\n",
        "\n",
        "*Lists*\n",
        "\n",
        "When using `in` with a list, Python checks if the specified value is present in the list. It returns `True` if the value is found, and `False` otherwise.\n",
        "my_list = [1, 2, 3, 4, 5]\n",
        "print(2 in my_list)  # True\n",
        "print(6 in my_list)  # False\n",
        "*Dictionaries*\n",
        "\n",
        "When using `in` with a dictionary, Python checks if the specified key is present in the dictionary. It returns `True` if the key is found, and `False` otherwise.\n",
        "my_dict = {'a': 1, 'b': 2, 'c': 3}\n",
        "print('a' in my_dict)  # True\n",
        "print('d' in my_dict)  # False\n",
        "Note that `in` checks for keys, not values. If you want to check for values, you can use the `.values()` method:\n",
        "my_dict = {'a': 1, 'b': 2, 'c': 3}\n",
        "print(1 in my_dict.values())  # True\n",
        "print(4 in my_dict.values())  # False\n",
        "If you want to check for both keys and values, you can use the `.items()` method:\n",
        "my_dict = {'a': 1, 'b': 2, 'c': 3}\n",
        "print(('a', 1) in my_dict.items())  # True\n",
        "print(('a', 2) in my_dict.items())  # False\n",
        "In summary, the `in` keyword works differently for lists and dictionaries:\n",
        "\n",
        "- For lists, `in` checks for values.\n",
        "- For dictionaries, `in` checks for keys by default, but you can use `.values()` or `.items()` to check for values or key-value pairs, respectively."
      ],
      "metadata": {
        "id": "qVICSwT1HrH9"
      }
    },
    {
      "cell_type": "markdown",
      "source": [
        "15.Can you modified the elements of a tuple?explain why or why not.\n",
        "Ans-Tuple Immutability\n",
        "You cannot modify the elements of a tuple after it's created. This is because tuples are immutable data structures in Python, meaning their contents cannot be changed, added to, or removed from once defined."
      ],
      "metadata": {
        "id": "79rJio3QIwmd"
      }
    },
    {
      "cell_type": "markdown",
      "source": [
        "16.what is a nested dictionary,and give and example of its use case?\n",
        "Ans-A nested dictionary is a dictionary where each value is itself another dictionary. It is useful for organizing hierarchical data.\n",
        "Example Use Case: Storing information about multiple students, where each student has their own set of details like age, grade, and subjects.\n",
        "student_data = {\n",
        "    \"student1\": {\n",
        "        \"name\": \"Alice\",\n",
        "        \"age\": 16,\n",
        "        \"grade\": 10,\n",
        "        \"subjects\": {\"math\": \"A\", \"science\": \"B\"}\n",
        "    },\n",
        "    \"student2\": {\n",
        "        \"name\": \"Bob\",\n",
        "        \"age\": 17,\n",
        "        \"grade\": 11,\n",
        "        \"subjects\": {\"math\": \"B\", \"history\": \"A\"}\n",
        "    }\n",
        "}\n",
        "\n",
        "print(student_data[\"student1\"][\"subjects\"][\"math\"]) # Output: A"
      ],
      "metadata": {
        "id": "pADF06EZJUnV"
      }
    },
    {
      "cell_type": "markdown",
      "source": [
        "17.describe the time complexity of accessing elements in a dictionary\n",
        "Ans-The time complexity of accessing an element in a dictionary is O(1) on average."
      ],
      "metadata": {
        "id": "fUaTVjuzKK9s"
      }
    },
    {
      "cell_type": "markdown",
      "source": [
        "18.In what situation are list preferred over dictionaries?\n",
        "Ans-Lists are preferred over dictionaries when order matters or when you need to access elements by numerical index. Dictionaries excel for fast lookups by unique keys and for storing data with key-value relationships."
      ],
      "metadata": {
        "id": "y6anAZLxKwNb"
      }
    },
    {
      "cell_type": "markdown",
      "source": [
        "19.Why are dictionaries consider unordered,and how does that affect data retrieval?\n",
        "Ans-Dictionaries are generally considered unordered because their primary purpose is efficient key-based data retrieval, not maintaining insertion order. While modern Python (3.7+) guarantees insertion order, this is an implementation detail rather than a fundamental characteristic."
      ],
      "metadata": {
        "id": "aPkRKELYLJ50"
      }
    },
    {
      "cell_type": "markdown",
      "source": [
        "20.Explain the difference between a list and a dictionary in terms of data retrieval.\n",
        "Ans-When retrieving data:\n",
        " * Lists use ordered numerical indices for access.\n",
        " * Dictionaries use unique, user-defined keys for access.\n"
      ],
      "metadata": {
        "id": "DwP0hHG-L0-i"
      }
    },
    {
      "cell_type": "markdown",
      "source": [
        "**Practical Questions**\n",
        "1. write a code to create a string with your name and print it\n",
        "\n",
        "\n"
      ],
      "metadata": {
        "id": "V6jjJUg0CvWi"
      }
    },
    {
      "cell_type": "code",
      "source": [
        "'''name=divya ghule'''"
      ],
      "metadata": {
        "colab": {
          "base_uri": "https://localhost:8080/",
          "height": 35
        },
        "id": "9PFRbW2wIGMb",
        "outputId": "c5c4b579-9170-4106-9bb6-cd9baf633983"
      },
      "execution_count": null,
      "outputs": [
        {
          "output_type": "execute_result",
          "data": {
            "text/plain": [
              "'name=divya ghule'"
            ],
            "application/vnd.google.colaboratory.intrinsic+json": {
              "type": "string"
            }
          },
          "metadata": {},
          "execution_count": 7
        }
      ]
    },
    {
      "cell_type": "markdown",
      "source": [
        "2.write a code to find the length of the string\"Hello World\""
      ],
      "metadata": {
        "id": "nwabTQZiIQJg"
      }
    },
    {
      "cell_type": "code",
      "source": [
        "'''length=\"Hello world\"'''"
      ],
      "metadata": {
        "colab": {
          "base_uri": "https://localhost:8080/",
          "height": 35
        },
        "id": "kKJm35IrI5Vx",
        "outputId": "0c5f9a5d-fd3b-4d02-80c9-697e3fe53124"
      },
      "execution_count": null,
      "outputs": [
        {
          "output_type": "execute_result",
          "data": {
            "text/plain": [
              "'length=\"Hello world\"'"
            ],
            "application/vnd.google.colaboratory.intrinsic+json": {
              "type": "string"
            }
          },
          "metadata": {},
          "execution_count": 8
        }
      ]
    },
    {
      "cell_type": "markdown",
      "source": [
        "3.write a code to slice the first 3 characters from the string\"Python programming\""
      ],
      "metadata": {
        "id": "gZtQ2pLAJHHp"
      }
    },
    {
      "cell_type": "code",
      "source": [
        "'''first_letter=name[3]'''"
      ],
      "metadata": {
        "colab": {
          "base_uri": "https://localhost:8080/",
          "height": 35
        },
        "id": "sB7iWu6TJfJn",
        "outputId": "465948dc-9445-4ea5-b2eb-6e403c08a604"
      },
      "execution_count": null,
      "outputs": [
        {
          "output_type": "execute_result",
          "data": {
            "text/plain": [
              "'first_letter=name[3]'"
            ],
            "application/vnd.google.colaboratory.intrinsic+json": {
              "type": "string"
            }
          },
          "metadata": {},
          "execution_count": 11
        }
      ]
    },
    {
      "cell_type": "markdown",
      "source": [
        "4.write the code to convert the string\"hello\"to upper case"
      ],
      "metadata": {
        "id": "EU5b_k2PJ0VT"
      }
    },
    {
      "cell_type": "code",
      "source": [
        "'''upper_case=name\"Hello\"'''"
      ],
      "metadata": {
        "colab": {
          "base_uri": "https://localhost:8080/",
          "height": 35
        },
        "id": "CDFujn1DKLah",
        "outputId": "c14ddd4c-4fbb-4d65-e804-20f70bc86934"
      },
      "execution_count": null,
      "outputs": [
        {
          "output_type": "execute_result",
          "data": {
            "text/plain": [
              "'upper_case=name\"Hello\"'"
            ],
            "application/vnd.google.colaboratory.intrinsic+json": {
              "type": "string"
            }
          },
          "metadata": {},
          "execution_count": 12
        }
      ]
    },
    {
      "cell_type": "markdown",
      "source": [
        "5.write a code to replace the world \"apple\"with \"orange\"in the string \"i like apple\""
      ],
      "metadata": {
        "id": "-lXiUolfKtoR"
      }
    },
    {
      "cell_type": "code",
      "source": [
        "'''replace_word=name.replace(\"apple\",\"orange\")'''"
      ],
      "metadata": {
        "colab": {
          "base_uri": "https://localhost:8080/",
          "height": 35
        },
        "id": "1ns6UbLWLBDo",
        "outputId": "1822fc39-fa0a-4f26-aea9-d87e38c5abc0"
      },
      "execution_count": null,
      "outputs": [
        {
          "output_type": "execute_result",
          "data": {
            "text/plain": [
              "'replace_word=name.replace(\"apple\",\"orange\")'"
            ],
            "application/vnd.google.colaboratory.intrinsic+json": {
              "type": "string"
            }
          },
          "metadata": {},
          "execution_count": 13
        }
      ]
    },
    {
      "cell_type": "markdown",
      "source": [],
      "metadata": {
        "id": "d9Mp_iwqLwDu"
      }
    },
    {
      "cell_type": "markdown",
      "source": [
        "6.write a code to create a list with number 1 to 5 and print it"
      ],
      "metadata": {
        "id": "REA3A-tWL24K"
      }
    },
    {
      "cell_type": "code",
      "source": [
        "'''number=[\"1,2,3,4,5\"]'''"
      ],
      "metadata": {
        "colab": {
          "base_uri": "https://localhost:8080/",
          "height": 35
        },
        "id": "iBMsGKJoMGlh",
        "outputId": "957ba1c3-77ef-450f-ad39-461950419c4f"
      },
      "execution_count": null,
      "outputs": [
        {
          "output_type": "execute_result",
          "data": {
            "text/plain": [
              "'number=[\"1,2,3,4,5\"]'"
            ],
            "application/vnd.google.colaboratory.intrinsic+json": {
              "type": "string"
            }
          },
          "metadata": {},
          "execution_count": 14
        }
      ]
    },
    {
      "cell_type": "markdown",
      "source": [
        "7.write a code to append the number 10 to the list[1,2,3,4]"
      ],
      "metadata": {
        "id": "SpbEBUw-MfBt"
      }
    },
    {
      "cell_type": "code",
      "source": [
        "'''append_number=number.append(10)'''"
      ],
      "metadata": {
        "colab": {
          "base_uri": "https://localhost:8080/",
          "height": 35
        },
        "id": "3Rn7tLjEMruo",
        "outputId": "772ebcd5-fef7-4623-a91c-8cd8cdcb5304"
      },
      "execution_count": null,
      "outputs": [
        {
          "output_type": "execute_result",
          "data": {
            "text/plain": [
              "'append_number=number.append(10)'"
            ],
            "application/vnd.google.colaboratory.intrinsic+json": {
              "type": "string"
            }
          },
          "metadata": {},
          "execution_count": 15
        }
      ]
    },
    {
      "cell_type": "markdown",
      "source": [
        "8.write a code to remove the number 3 from the list[1,2,3,4,5]"
      ],
      "metadata": {
        "id": "lcAd2BtWNPgA"
      }
    },
    {
      "cell_type": "code",
      "source": [
        "'''remove_number=number.remove(3)'''"
      ],
      "metadata": {
        "colab": {
          "base_uri": "https://localhost:8080/",
          "height": 35
        },
        "id": "lhFXSYjcNcdG",
        "outputId": "21507893-5f07-49a7-a333-92bec9778e1c"
      },
      "execution_count": null,
      "outputs": [
        {
          "output_type": "execute_result",
          "data": {
            "text/plain": [
              "'remove_number=number.remove(3)'"
            ],
            "application/vnd.google.colaboratory.intrinsic+json": {
              "type": "string"
            }
          },
          "metadata": {},
          "execution_count": 16
        }
      ]
    },
    {
      "cell_type": "markdown",
      "source": [
        "9.write a code to access the second element in the list['a','b','c','d']"
      ],
      "metadata": {
        "id": "2RsCW0tAN_l3"
      }
    },
    {
      "cell_type": "code",
      "source": [
        "'''access_second_element=number{1}'''"
      ],
      "metadata": {
        "colab": {
          "base_uri": "https://localhost:8080/",
          "height": 35
        },
        "id": "q8ksGuY7OTpj",
        "outputId": "e0229625-433d-493c-810f-4001be2c9e29"
      },
      "execution_count": null,
      "outputs": [
        {
          "output_type": "execute_result",
          "data": {
            "text/plain": [
              "'access_second_element=number{1}'"
            ],
            "application/vnd.google.colaboratory.intrinsic+json": {
              "type": "string"
            }
          },
          "metadata": {},
          "execution_count": 17
        }
      ]
    },
    {
      "cell_type": "markdown",
      "source": [
        "10.write a code reverse the list [10,20,30,40,50]"
      ],
      "metadata": {
        "id": "yL4UywmCOwPs"
      }
    },
    {
      "cell_type": "code",
      "source": [
        "'''reverse_list=number.reverse()'''"
      ],
      "metadata": {
        "colab": {
          "base_uri": "https://localhost:8080/",
          "height": 35
        },
        "id": "tgJ5ZJpcO8dI",
        "outputId": "bbd74e65-8ec1-4c67-c705-117e738cef0d"
      },
      "execution_count": null,
      "outputs": [
        {
          "output_type": "execute_result",
          "data": {
            "text/plain": [
              "'reverse_list=number.reverse()'"
            ],
            "application/vnd.google.colaboratory.intrinsic+json": {
              "type": "string"
            }
          },
          "metadata": {},
          "execution_count": 18
        }
      ]
    },
    {
      "cell_type": "markdown",
      "source": [
        "11.write a code to create a tuple with the elements 100,200,300 and print it."
      ],
      "metadata": {
        "id": "3IRA2dzSPLlZ"
      }
    },
    {
      "cell_type": "code",
      "source": [
        "my_tuple=(100,200,300)\n",
        "print(my_tuple)"
      ],
      "metadata": {
        "colab": {
          "base_uri": "https://localhost:8080/"
        },
        "id": "LtUdl4mNPYG3",
        "outputId": "8b68f0a0-8e0d-48c0-f34b-c20253220725"
      },
      "execution_count": null,
      "outputs": [
        {
          "output_type": "stream",
          "name": "stdout",
          "text": [
            "(100, 200, 300)\n"
          ]
        }
      ]
    },
    {
      "cell_type": "markdown",
      "source": [
        "12.write a code to access the second-to-last element of the tuple('red','green','blue','yellow')"
      ],
      "metadata": {
        "id": "VmL-RVUKQqVq"
      }
    },
    {
      "cell_type": "code",
      "source": [
        "my_tuple=('red','green','blue','yellow')\n",
        "print(my_tuple[-2])"
      ],
      "metadata": {
        "colab": {
          "base_uri": "https://localhost:8080/"
        },
        "id": "OwXGaaNkRBCb",
        "outputId": "75f8fb5d-4958-4bcd-e735-091ee93fe4e1"
      },
      "execution_count": null,
      "outputs": [
        {
          "output_type": "stream",
          "name": "stdout",
          "text": [
            "blue\n"
          ]
        }
      ]
    },
    {
      "cell_type": "markdown",
      "source": [
        "13.write a code to find a minimum number in the tuple(10,20,5,15)"
      ],
      "metadata": {
        "id": "RlOl2GbmSAiN"
      }
    },
    {
      "cell_type": "code",
      "source": [
        "min_number=min(10,20,5,15)\n",
        "print(min_number)"
      ],
      "metadata": {
        "colab": {
          "base_uri": "https://localhost:8080/"
        },
        "id": "h-JQcKblSVHQ",
        "outputId": "1b56a899-3d30-4199-c54c-077424cd51f7"
      },
      "execution_count": null,
      "outputs": [
        {
          "output_type": "stream",
          "name": "stdout",
          "text": [
            "5\n"
          ]
        }
      ]
    },
    {
      "cell_type": "markdown",
      "source": [
        "14.write a code to find the index of the elemnet \"cat\" in the tuple('dog','cat','rabbit')"
      ],
      "metadata": {
        "id": "7c0p7CbHS3Gr"
      }
    },
    {
      "cell_type": "code",
      "source": [
        "my_tuple=('dog','cat','rabbit')\n",
        "print(my_tuple.index('cat'))"
      ],
      "metadata": {
        "colab": {
          "base_uri": "https://localhost:8080/"
        },
        "id": "-zBhICxrTMoG",
        "outputId": "6f2a9798-666e-49cd-ec85-6dde06a48f66"
      },
      "execution_count": null,
      "outputs": [
        {
          "output_type": "stream",
          "name": "stdout",
          "text": [
            "1\n"
          ]
        }
      ]
    },
    {
      "cell_type": "markdown",
      "source": [
        "15.write a code to create a tuple containg three different fruits and check if\"kiwi\" is in it."
      ],
      "metadata": {
        "id": "lw7p2T3vURGE"
      }
    },
    {
      "cell_type": "code",
      "source": [
        "my_tuple=('apple','banana','kiwi')\n",
        "print('kiwi' in my_tuple)"
      ],
      "metadata": {
        "colab": {
          "base_uri": "https://localhost:8080/"
        },
        "id": "SD9KN9d2Uhsl",
        "outputId": "41939bbc-b658-4f94-c795-87cc6f160c4e"
      },
      "execution_count": null,
      "outputs": [
        {
          "output_type": "stream",
          "name": "stdout",
          "text": [
            "True\n"
          ]
        }
      ]
    },
    {
      "cell_type": "markdown",
      "source": [
        "16.write a code to create a set with the elements 'a','b','c' and print it"
      ],
      "metadata": {
        "id": "J4aqAu23Uq7U"
      }
    },
    {
      "cell_type": "code",
      "source": [
        "'''empty_set=set()'''"
      ],
      "metadata": {
        "colab": {
          "base_uri": "https://localhost:8080/",
          "height": 35
        },
        "id": "aeQmC5PzU798",
        "outputId": "e7044329-f98f-46cf-f66c-1f107c3e5ce4"
      },
      "execution_count": null,
      "outputs": [
        {
          "output_type": "execute_result",
          "data": {
            "text/plain": [
              "'empty_set=set()'"
            ],
            "application/vnd.google.colaboratory.intrinsic+json": {
              "type": "string"
            }
          },
          "metadata": {},
          "execution_count": 30
        }
      ]
    },
    {
      "cell_type": "markdown",
      "source": [
        "17.write a code to clear all elements from the set {1,2,3,4,5}."
      ],
      "metadata": {
        "id": "DvN1IX20VVzF"
      }
    },
    {
      "cell_type": "code",
      "source": [
        "empty_set=set()"
      ],
      "metadata": {
        "id": "Xs8etAtgViDy"
      },
      "execution_count": null,
      "outputs": []
    },
    {
      "cell_type": "markdown",
      "source": [
        "18.write a code to remove the element 4 from the set {1,2,3,4}"
      ],
      "metadata": {
        "id": "ge4-BMj1Vupt"
      }
    },
    {
      "cell_type": "code",
      "source": [
        "'''empty_set.remove(4)'''"
      ],
      "metadata": {
        "colab": {
          "base_uri": "https://localhost:8080/",
          "height": 35
        },
        "id": "7SXCcCnaV6sr",
        "outputId": "b4854a4b-1393-4d46-daa1-9baca87d4ecc"
      },
      "execution_count": null,
      "outputs": [
        {
          "output_type": "execute_result",
          "data": {
            "text/plain": [
              "'empty_set.remove(4)'"
            ],
            "application/vnd.google.colaboratory.intrinsic+json": {
              "type": "string"
            }
          },
          "metadata": {},
          "execution_count": 33
        }
      ]
    },
    {
      "cell_type": "markdown",
      "source": [
        "19.write a code to find the union of to sets {1,2,3}and {3,4,5}."
      ],
      "metadata": {
        "id": "n7MCVQWMWEdU"
      }
    },
    {
      "cell_type": "code",
      "source": [
        "'''empty_set.union(3,4,5)'''"
      ],
      "metadata": {
        "colab": {
          "base_uri": "https://localhost:8080/",
          "height": 35
        },
        "id": "Zn4DHoj_WRFx",
        "outputId": "0e9c7f32-0213-4b70-e4d3-9af4370fd1e9"
      },
      "execution_count": null,
      "outputs": [
        {
          "output_type": "execute_result",
          "data": {
            "text/plain": [
              "'empty_set.union(3,4,5)'"
            ],
            "application/vnd.google.colaboratory.intrinsic+json": {
              "type": "string"
            }
          },
          "metadata": {},
          "execution_count": 34
        }
      ]
    },
    {
      "cell_type": "markdown",
      "source": [
        "20.write a code to find the intresection of to sets{1,2,3} and {2,3,4}"
      ],
      "metadata": {
        "id": "tEaRPJJ7WWFb"
      }
    },
    {
      "cell_type": "code",
      "source": [
        "'''empty_set.intersection(2,3,4)'''"
      ],
      "metadata": {
        "colab": {
          "base_uri": "https://localhost:8080/",
          "height": 35
        },
        "id": "oJF1VCHuWiyK",
        "outputId": "09bd6b98-bf5d-4510-b7b1-7a97bf8a47b2"
      },
      "execution_count": null,
      "outputs": [
        {
          "output_type": "execute_result",
          "data": {
            "text/plain": [
              "'empty_set.intersection(2,3,4)'"
            ],
            "application/vnd.google.colaboratory.intrinsic+json": {
              "type": "string"
            }
          },
          "metadata": {},
          "execution_count": 35
        }
      ]
    },
    {
      "cell_type": "markdown",
      "source": [
        "21.write a code to create a dictionary with the keys\"name\",\"age\",and \"city\",and print it"
      ],
      "metadata": {
        "id": "czIdMR_VWmsT"
      }
    },
    {
      "cell_type": "code",
      "source": [
        "'''my_dict={\"name\":\"divya\",\"age\":20,\"city\":\"pune\"}'''"
      ],
      "metadata": {
        "colab": {
          "base_uri": "https://localhost:8080/",
          "height": 35
        },
        "id": "7-c6_QCPW-GE",
        "outputId": "f7a7d4f5-0ea3-48a4-999e-1953c07db9f8"
      },
      "execution_count": null,
      "outputs": [
        {
          "output_type": "execute_result",
          "data": {
            "text/plain": [
              "'my_dict={\"name\":\"divya\",\"age\":20,\"city\":\"pune\"}'"
            ],
            "application/vnd.google.colaboratory.intrinsic+json": {
              "type": "string"
            }
          },
          "metadata": {},
          "execution_count": 36
        }
      ]
    },
    {
      "cell_type": "markdown",
      "source": [
        "22.write a code to add a new key - value pair \"county\":\"USA\" To the dictionary{'name:'john','age':25}"
      ],
      "metadata": {
        "id": "z13OKE1XYqiz"
      }
    },
    {
      "cell_type": "code",
      "source": [
        "'''my_dict[\"county\"]=\"USA\"'''"
      ],
      "metadata": {
        "colab": {
          "base_uri": "https://localhost:8080/",
          "height": 35
        },
        "id": "YEBGCE-PZYM0",
        "outputId": "11eff886-baa1-4542-9b53-fbc79790a756"
      },
      "execution_count": null,
      "outputs": [
        {
          "output_type": "execute_result",
          "data": {
            "text/plain": [
              "'my_dict[\"county\"]=\"USA\"'"
            ],
            "application/vnd.google.colaboratory.intrinsic+json": {
              "type": "string"
            }
          },
          "metadata": {},
          "execution_count": 37
        }
      ]
    },
    {
      "cell_type": "markdown",
      "source": [
        "23.write a code to acess the value assosiated with the key\"name\" in the dictionary{'name':'Alice','age':30}"
      ],
      "metadata": {
        "id": "gOq_ZS6xZiq5"
      }
    },
    {
      "cell_type": "code",
      "source": [
        "'''my_dict[\"name\"]'''"
      ],
      "metadata": {
        "colab": {
          "base_uri": "https://localhost:8080/",
          "height": 35
        },
        "id": "vv_6-AvbZ6EC",
        "outputId": "ec81ec7c-0a8b-4966-9ff4-ac900e939964"
      },
      "execution_count": null,
      "outputs": [
        {
          "output_type": "execute_result",
          "data": {
            "text/plain": [
              "'my_dict[\"name\"]'"
            ],
            "application/vnd.google.colaboratory.intrinsic+json": {
              "type": "string"
            }
          },
          "metadata": {},
          "execution_count": 38
        }
      ]
    },
    {
      "cell_type": "markdown",
      "source": [
        "24.write a code to remove the key \"age\" from the dictionary{'name':'bob','age':22,'city':'new york'}"
      ],
      "metadata": {
        "id": "1SgwELn2bD7K"
      }
    },
    {
      "cell_type": "code",
      "source": [
        "'''my_dict.pop(\"age\")'''"
      ],
      "metadata": {
        "colab": {
          "base_uri": "https://localhost:8080/",
          "height": 35
        },
        "id": "sm8DKeBNbdb4",
        "outputId": "0e4c1188-0ece-4338-ffa7-4cc774da441f"
      },
      "execution_count": null,
      "outputs": [
        {
          "output_type": "execute_result",
          "data": {
            "text/plain": [
              "'my_dict.pop(\"age\")'"
            ],
            "application/vnd.google.colaboratory.intrinsic+json": {
              "type": "string"
            }
          },
          "metadata": {},
          "execution_count": 39
        }
      ]
    },
    {
      "cell_type": "markdown",
      "source": [
        "25.write a code to check if the key \"city\" exist in dictionary{'name':'alice','city':'paris'}"
      ],
      "metadata": {
        "id": "Edlp5oF8bid3"
      }
    },
    {
      "cell_type": "code",
      "source": [
        "'''my_dict.get(\"city\")'''"
      ],
      "metadata": {
        "colab": {
          "base_uri": "https://localhost:8080/",
          "height": 35
        },
        "id": "f69JJIiIbyMJ",
        "outputId": "bd7668d9-5506-4e6a-bbbb-f1f3a38eabad"
      },
      "execution_count": null,
      "outputs": [
        {
          "output_type": "execute_result",
          "data": {
            "text/plain": [
              "'my_dict.get(\"city\")'"
            ],
            "application/vnd.google.colaboratory.intrinsic+json": {
              "type": "string"
            }
          },
          "metadata": {},
          "execution_count": 40
        }
      ]
    },
    {
      "cell_type": "markdown",
      "source": [
        "26.write a code to create a list,a tuple,and a dictionary,and print them all."
      ],
      "metadata": {
        "id": "OFc3luJDb4cX"
      }
    },
    {
      "cell_type": "code",
      "source": [
        "'''my_list=[1,2,3]'''"
      ],
      "metadata": {
        "colab": {
          "base_uri": "https://localhost:8080/",
          "height": 35
        },
        "id": "ZBAL0TQbcEpi",
        "outputId": "ad47c7ce-6ee3-4fe8-f661-684696fa5a53"
      },
      "execution_count": null,
      "outputs": [
        {
          "output_type": "execute_result",
          "data": {
            "text/plain": [
              "'my_list=[1,2,3]'"
            ],
            "application/vnd.google.colaboratory.intrinsic+json": {
              "type": "string"
            }
          },
          "metadata": {},
          "execution_count": 41
        }
      ]
    },
    {
      "cell_type": "markdown",
      "source": [
        "27.write a code to create a list of 5 random no between 1 and 100,sort it in assending order,and print the reuslt.(repaced)."
      ],
      "metadata": {
        "id": "CWEcmzN4cJEk"
      }
    },
    {
      "cell_type": "code",
      "source": [
        "'''my_list=[1,2,3,4,5]'''"
      ],
      "metadata": {
        "colab": {
          "base_uri": "https://localhost:8080/",
          "height": 35
        },
        "id": "Wm1CrzS4cdjx",
        "outputId": "2b807117-dd2c-4b44-da4f-d50fb842d8af"
      },
      "execution_count": null,
      "outputs": [
        {
          "output_type": "execute_result",
          "data": {
            "text/plain": [
              "'my_list=[1,2,3,4,5]'"
            ],
            "application/vnd.google.colaboratory.intrinsic+json": {
              "type": "string"
            }
          },
          "metadata": {},
          "execution_count": 42
        }
      ]
    },
    {
      "cell_type": "markdown",
      "source": [
        "28.write a code to create a list with strings and print the element at the third index"
      ],
      "metadata": {
        "id": "jLcQGhKDcj75"
      }
    },
    {
      "cell_type": "code",
      "source": [
        "'''my_list=[\"apple\",\"banana\",\"orange\"]'''"
      ],
      "metadata": {
        "colab": {
          "base_uri": "https://localhost:8080/",
          "height": 35
        },
        "id": "k4KTKDt3cvWT",
        "outputId": "4487561e-b6a7-4b8b-a6ea-0f5b0d4f7a9d"
      },
      "execution_count": null,
      "outputs": [
        {
          "output_type": "execute_result",
          "data": {
            "text/plain": [
              "'my_list=[\"apple\",\"banana\",\"orange\"]'"
            ],
            "application/vnd.google.colaboratory.intrinsic+json": {
              "type": "string"
            }
          },
          "metadata": {},
          "execution_count": 43
        }
      ]
    },
    {
      "cell_type": "markdown",
      "source": [
        "29.write a code to combine to dictionary into one and print the result"
      ],
      "metadata": {
        "id": "ZawVZU5oczHL"
      }
    },
    {
      "cell_type": "code",
      "source": [
        "'''my_dict={\"name\":\"divya\",\"age\":20}'''"
      ],
      "metadata": {
        "colab": {
          "base_uri": "https://localhost:8080/",
          "height": 35
        },
        "id": "H3V1XGqdc-pW",
        "outputId": "b57f2afe-10dd-4165-a749-01d01fcbedf6"
      },
      "execution_count": null,
      "outputs": [
        {
          "output_type": "execute_result",
          "data": {
            "text/plain": [
              "'my_dict={\"name\":\"divya\",\"age\":20}'"
            ],
            "application/vnd.google.colaboratory.intrinsic+json": {
              "type": "string"
            }
          },
          "metadata": {},
          "execution_count": 44
        }
      ]
    },
    {
      "cell_type": "markdown",
      "source": [
        "30.write a code to convert a list of strings into a set."
      ],
      "metadata": {
        "id": "TvemUGYcdDlf"
      }
    },
    {
      "cell_type": "code",
      "source": [
        "'''my_list=[\"apple\",\"banana\",\"orange\"]'''"
      ],
      "metadata": {
        "colab": {
          "base_uri": "https://localhost:8080/",
          "height": 35
        },
        "id": "9QqUIldRdOrY",
        "outputId": "c0d0f542-d9bc-4a59-e3a4-37f72790c8f4"
      },
      "execution_count": null,
      "outputs": [
        {
          "output_type": "execute_result",
          "data": {
            "text/plain": [
              "'my_list=[\"apple\",\"banana\",\"orange\"]'"
            ],
            "application/vnd.google.colaboratory.intrinsic+json": {
              "type": "string"
            }
          },
          "metadata": {},
          "execution_count": 45
        }
      ]
    },
    {
      "cell_type": "code",
      "source": [],
      "metadata": {
        "id": "nUORBEK5a6X2"
      },
      "execution_count": null,
      "outputs": []
    }
  ]
}